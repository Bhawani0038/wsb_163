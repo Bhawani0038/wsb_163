{
 "cells": [
  {
   "cell_type": "markdown",
   "id": "7353351e",
   "metadata": {},
   "source": [
    "# 📘 Python Dictionary\n"
   ]
  },
  {
   "cell_type": "markdown",
   "id": "956d06f5",
   "metadata": {},
   "source": [
    "## 🔍 What is a Dictionary?\n",
    "A **dictionary** in Python is an unordered collection of data in a **key:value** pair format.\n",
    "- Keys must be **unique** and **immutable** (like strings, numbers, or tuples)\n",
    "- Values can be anything (even another dictionary!)\n",
    "\n",
    "**Syntax:**\n",
    "```python\n",
    "di = {\n",
    "    \"name\": \"Smart Fridge\",\n",
    "    \"temperature\": 4,\n",
    "    \"items\": [\"milk\", \"eggs\", \"juice\"]\n",
    "}\n",
    "```"
   ]
  },
  {
   "cell_type": "code",
   "execution_count": 1,
   "id": "bccb475e",
   "metadata": {},
   "outputs": [
    {
     "name": "stdout",
     "output_type": "stream",
     "text": [
      "{'brand': 'Samsung', 'capacity_litres': 345, 'features': ['wifi', 'ice_dispenser', 'smart_screen']}\n"
     ]
    }
   ],
   "source": [
    "# Example: Creating a dictionary\n",
    "fridge = {\n",
    "    \"brand\": \"Samsung\",\n",
    "    \"capacity_litres\": 345,\n",
    "    \"features\": [\"wifi\", \"ice_dispenser\", \"smart_screen\"]\n",
    "}\n",
    "print(fridge)"
   ]
  },
  {
   "cell_type": "markdown",
   "id": "87fdba69-82b8-4ef0-b504-e35a68d0e444",
   "metadata": {},
   "source": [
    "### ✅ Accessing Dictionary Elements"
   ]
  },
  {
   "cell_type": "code",
   "execution_count": 2,
   "id": "04085d39-47e0-4d25-9d5d-f5bd585b62ef",
   "metadata": {},
   "outputs": [
    {
     "name": "stdout",
     "output_type": "stream",
     "text": [
      "Samsung\n",
      "['wifi', 'ice_dispenser', 'smart_screen']\n"
     ]
    }
   ],
   "source": [
    "print(fridge[\"brand\"])  # Samsung\n",
    "print(fridge.get(\"features\"))  # [\"wifi\", \"ice_dispenser\", \"smart_screen\"]"
   ]
  },
  {
   "cell_type": "markdown",
   "id": "26d2cbb8-69d9-4ad7-92b0-7788303d2074",
   "metadata": {},
   "source": [
    "### 🔧 Modifying a Dictionary"
   ]
  },
  {
   "cell_type": "markdown",
   "id": "8397a7a6-8ae2-45dc-851f-da08e7fb4df3",
   "metadata": {},
   "source": [
    "- Add new item:\n",
    "```python"
   ]
  },
  {
   "cell_type": "code",
   "execution_count": null,
   "id": "21084661-f1bf-4161-850e-5933beedf029",
   "metadata": {},
   "outputs": [],
   "source": [
    "fridge[\"color\"] = \"silver\""
   ]
  },
  {
   "cell_type": "markdown",
   "id": "d938954d-26a2-4cd9-8179-feff68d7d7b6",
   "metadata": {},
   "source": [
    "- Modify value:"
   ]
  },
  {
   "cell_type": "code",
   "execution_count": null,
   "id": "3b0b5b17-fbcb-4ebc-a58c-01987b6c69c7",
   "metadata": {},
   "outputs": [],
   "source": [
    "fridge[\"capacity_litres\"] = 400"
   ]
  },
  {
   "cell_type": "markdown",
   "id": "c7df741f-a458-40a2-a90e-7767b7f0ecc6",
   "metadata": {},
   "source": [
    "- Delete key:"
   ]
  },
  {
   "cell_type": "code",
   "execution_count": null,
   "id": "8d84d780-4e72-4e23-883b-08353ee62c19",
   "metadata": {},
   "outputs": [],
   "source": [
    "del fridge[\"brand\"]"
   ]
  },
  {
   "cell_type": "markdown",
   "id": "c5ae37f7",
   "metadata": {},
   "source": [
    "## 🎯 Dictionary Methods\n",
    "| Method           | Description |\n",
    "|------------------|-------------|\n",
    "| `dict.get(key)`         | Returns the value for the key |\n",
    "| `dict.keys()`           | Returns a list of keys |\n",
    "| `dict.values()`         | Returns a list of values |\n",
    "| `dict.items()`          | Returns a list of key-value pairs |\n",
    "| `dict.update(new_dict)`| Updates dictionary with new values |\n",
    "| `dict.pop(key)`        | Removes key and returns its value |"
   ]
  },
  {
   "cell_type": "markdown",
   "id": "d3605368-43e2-4e05-90f0-96db522b6c13",
   "metadata": {},
   "source": [
    "## ✅ MCQs: Choose the correct option"
   ]
  },
  {
   "cell_type": "markdown",
   "id": "dad1fed2-4392-4d45-9c6c-aff44e2ab25d",
   "metadata": {},
   "source": [
    "**1. What is the correct syntax to access the value of a key from a dictionary?**\n",
    "\n",
    "a) dict.key  \n",
    "b) dict.get[key]  \n",
    "c) dict[\"key\"]  \n",
    "d) dict::key  "
   ]
  },
  {
   "attachments": {},
   "cell_type": "markdown",
   "id": "070514a6-2671-4aef-997c-7889a8668ecd",
   "metadata": {},
   "source": [
    "**2. Which of the following is *not* a valid dictionary method?**\n",
    "\n",
    "a) get()  \n",
    "b) put()  \n",
    "c) pop()  \n",
    "d) update()  "
   ]
  },
  {
   "cell_type": "markdown",
   "id": "6ae8a175-8614-4557-88cf-9dc111ca35ed",
   "metadata": {},
   "source": [
    "**3. What will be the output of `len({\"a\":1, \"b\":2, \"c\":3})`?**\n",
    "\n",
    "a) 1  \n",
    "b) 2  \n",
    "c) 3  \n",
    "d) Error  "
   ]
  },
  {
   "cell_type": "markdown",
   "id": "0289794c-2435-4d77-965d-875f7410c28e",
   "metadata": {},
   "source": [
    "## 📝 Fill in the blanks\n",
    "1. Dictionary stores data in the form of __________ pairs.  "
   ]
  },
  {
   "cell_type": "markdown",
   "id": "13c9c48a-6e0c-45d2-98f4-f008b294a20e",
   "metadata": {},
   "source": [
    "2. The method used to return all keys is __________.  "
   ]
  },
  {
   "cell_type": "markdown",
   "id": "7081f66e-f7b9-4d14-93cc-c61feebeab72",
   "metadata": {},
   "source": [
    "3. To remove a specific key from a dictionary, we use __________.  "
   ]
  },
  {
   "cell_type": "markdown",
   "id": "12dbcbba",
   "metadata": {},
   "source": [
    "## 🔗 Match the Following\n",
    "| Column A           | Column B             |\n",
    "|--------------------|----------------------|\n",
    "| keys()             | returns all keys     |\n",
    "| values()           | returns all values   |\n",
    "| pop()              | removes key-value    |\n",
    "| update()           | updates dictionary   |\n",
    "| items()            | returns key-value pairs |"
   ]
  },
  {
   "cell_type": "markdown",
   "id": "5f6dbfae-7984-4942-b261-110fa2313ce2",
   "metadata": {},
   "source": [
    "## 💻 Programming Exercises"
   ]
  },
  {
   "cell_type": "markdown",
   "id": "7df9ac81-580f-421e-8437-d17f2548abe8",
   "metadata": {},
   "source": [
    "**Q1. Create a dictionary of 3 employees with their names as keys and salaries as values. Print the salary of each employee.**"
   ]
  },
  {
   "cell_type": "code",
   "execution_count": null,
   "id": "94553362-2383-44c2-8d51-0ea0853c5211",
   "metadata": {},
   "outputs": [],
   "source": []
  },
  {
   "cell_type": "markdown",
   "id": "f41bc0f3-4afa-4efc-a8a2-89dff7b166ab",
   "metadata": {},
   "source": [
    "**Q2. Write a program to count the frequency of characters in a string using dictionary.**"
   ]
  },
  {
   "cell_type": "code",
   "execution_count": null,
   "id": "cb0c0932-535b-4e8b-8f76-7415b793cb0d",
   "metadata": {},
   "outputs": [],
   "source": []
  },
  {
   "cell_type": "markdown",
   "id": "2c128ec9-0cfb-4c85-b035-c13a42671f5a",
   "metadata": {},
   "source": [
    "**Q3. Store student marks for 5 subjects in a dictionary. Calculate and display the average marks.**"
   ]
  },
  {
   "cell_type": "code",
   "execution_count": null,
   "id": "8bbf6ee1-762b-4b50-99ee-d4f91c99390e",
   "metadata": {},
   "outputs": [],
   "source": []
  },
  {
   "cell_type": "markdown",
   "id": "8154098b-6580-421d-ba3f-fdbcdf17026c",
   "metadata": {},
   "source": [
    "**Q4. Write a program that merges two dictionaries. If keys are same, sum their values.**"
   ]
  },
  {
   "cell_type": "markdown",
   "id": "be537d86",
   "metadata": {},
   "source": [
    "## 📌 Summary\n",
    "- Dictionaries store data in key-value pairs\n",
    "- Keys must be unique and immutable\n",
    "- Use methods like `get()`, `keys()`, `items()` for accessing\n",
    "- Very useful for fast lookups and data organization"
   ]
  },
  {
   "cell_type": "code",
   "execution_count": 29,
   "id": "bec9aef8-7039-4ebf-9e5d-b77b49c1ec12",
   "metadata": {},
   "outputs": [
    {
     "name": "stdout",
     "output_type": "stream",
     "text": [
      "\n",
      "=== Inventory Management System ===\n",
      "1. View Inventory\n",
      "2. Add Item to Cart\n",
      "3. Remove Item from Cart\n",
      "4. View Cart\n",
      "5. Generate Invoice\n",
      "6. Exit\n"
     ]
    },
    {
     "name": "stdin",
     "output_type": "stream",
     "text": [
      "Enter your choice (1-6):  6\n"
     ]
    },
    {
     "name": "stdout",
     "output_type": "stream",
     "text": [
      "Exiting the program. Goodbye!\n"
     ]
    }
   ],
   "source": [
    "# Initialize an empty cart\n",
    "cart = {}\n",
    "\n",
    "def display_inventory():\n",
    "    pass\n",
    "\n",
    "def add_to_cart():\n",
    "    pass\n",
    "\n",
    "def remove_from_cart():\n",
    "    pass\n",
    "\n",
    "def view_cart():\n",
    "    pass\n",
    "\n",
    "\n",
    "def generate_invoice():\n",
    "    pass\n",
    "\n",
    "def main():\n",
    "    while True:\n",
    "        print(\"\\n=== Inventory Management System ===\")\n",
    "        print(\"1. View Inventory\")\n",
    "        print(\"2. Add Item to Cart\")\n",
    "        print(\"3. Remove Item from Cart\")\n",
    "        print(\"4. View Cart\")\n",
    "        print(\"5. Generate Invoice\")\n",
    "        print(\"6. Exit\")\n",
    "        choice = input(\"Enter your choice (1-6): \").strip()\n",
    "        if choice == '1':\n",
    "            display_inventory()\n",
    "        elif choice == '2':\n",
    "            add_to_cart()\n",
    "        elif choice == '3':\n",
    "            remove_from_cart()\n",
    "        elif choice == '4':\n",
    "            view_cart()\n",
    "        elif choice == '5':\n",
    "            generate_invoice()\n",
    "        elif choice == '6':\n",
    "            print(\"Exiting the program. Goodbye!\")\n",
    "            break\n",
    "        else:\n",
    "            print(\"❌ Invalid choice. Please select a valid option.\")\n",
    "\n",
    "main()\n"
   ]
  }
 ],
 "metadata": {
  "kernelspec": {
   "display_name": "Python 3 (ipykernel)",
   "language": "python",
   "name": "python3"
  },
  "language_info": {
   "codemirror_mode": {
    "name": "ipython",
    "version": 3
   },
   "file_extension": ".py",
   "mimetype": "text/x-python",
   "name": "python",
   "nbconvert_exporter": "python",
   "pygments_lexer": "ipython3",
   "version": "3.13.2"
  }
 },
 "nbformat": 4,
 "nbformat_minor": 5
}
