{
 "cells": [
  {
   "cell_type": "markdown",
   "metadata": {},
   "source": [
    "# Comprehensive Python List Tutorial\n",
    "This notebook covers all the essential concepts of Python lists, including examples and exercises."
   ]
  },
  {
   "cell_type": "markdown",
   "metadata": {},
   "source": [
    "## 1. Introduction to Lists\n",
    "- **What is a List?**\n",
    "  - A list is an ordered, mutable collection of elements.\n",
    "  - It can contain mixed data types (e.g., integers, strings, floats).\n",
    "- **Use Cases for Lists**\n",
    "  - Storing sequences of data (e.g., user inputs, database records).\n",
    "  - Iterating over elements for processing."
   ]
  },
  {
   "cell_type": "code",
   "execution_count": null,
   "metadata": {},
   "outputs": [],
   "source": [
    "# Example: Creating a list\n",
    "mixed_list = [1, \"apple\", 3.14, True]\n",
    "print(\"Sample list:\", mixed_list)\n",
    "print(\"Type of mixed_list:\", type(mixed_list))"
   ]
  },
  {
   "cell_type": "markdown",
   "metadata": {},
   "source": [
    "## 2. Creating Lists\n",
    "- **Literal Syntax**: `my_list = [1, 2, 3]`\n",
    "- **Using `list()` Constructor**: Convert iterables (e.g., strings, tuples) to lists.\n",
    "- **Empty Lists**: `empty_list = []` or `empty_list = list()`."
   ]
  },
  {
   "cell_type": "code",
   "execution_count": null,
   "metadata": {},
   "outputs": [],
   "source": [
    "# Creating lists\n",
    "list1 = [1, 2, 3]  # Literal\n",
    "list2 = list(\"hello\")  # Constructor\n",
    "empty_list = []  # Empty list\n",
    "\n",
    "print(\"Literal list:\", list1)\n",
    "print(\"List from string:\", list2)\n",
    "print(\"Empty list:\", empty_list)"
   ]
  },
  {
   "cell_type": "markdown",
   "metadata": {},
   "source": [
    "## 3. Accessing List Elements\n",
    "- **Indexing**: Access elements using indices (e.g., `my_list[0]`).\n",
    "- **Slicing**: Extract sublists using `my_list[start:stop:step]`.\n",
    "- **Negative Indexing**: Access elements from the end (e.g., `my_list[-1]`)."
   ]
  },
  {
   "cell_type": "code",
   "execution_count": null,
   "metadata": {},
   "outputs": [],
   "source": [
    "# Accessing elements\n",
    "numbers = [10, 20, 30, 40, 50]\n",
    "\n",
    "print(\"First element:\", numbers[0])\n",
    "print(\"Last element:\", numbers[-1])\n",
    "print(\"Slice from index 1 to 3:\", numbers[1:4])\n",
    "print(\"Reversed list:\", numbers[::-1])"
   ]
  },
  {
   "cell_type": "markdown",
   "metadata": {},
   "source": [
    "## 4. Modifying Lists\n",
    "- **Adding Elements**:\n",
    "  - `append(item)`: Add to the end.\n",
    "  - `insert(index, item)`: Insert at a specific position.\n",
    "  - `extend(iterable)`: Add multiple elements.\n",
    "- **Removing Elements**:\n",
    "  - `remove(item)`: Delete the first occurrence of a value.\n",
    "  - `pop(index)`: Remove and return an item by index.\n",
    "  - `clear()`: Empty the list.\n",
    "- **Updating Elements**: Assign by index (e.g., `my_list[0] = \"new_value\"`)."
   ]
  },
  {
   "cell_type": "code",
   "execution_count": null,
   "metadata": {},
   "outputs": [],
   "source": [
    "# Modifying lists\n",
    "fruits = [\"apple\"]\n",
    "\n",
    "# Adding elements\n",
    "fruits.append(\"banana\")\n",
    "fruits.insert(1, \"orange\")\n",
    "fruits.extend([\"grape\", \"mango\"])\n",
    "\n",
    "# Removing elements\n",
    "fruits.remove(\"orange\")\n",
    "popped = fruits.pop(2)\n",
    "\n",
    "print(\"Modified list:\", fruits)\n",
    "print(\"Popped item:\", popped)"
   ]
  },
  {
   "cell_type": "markdown",
   "metadata": {},
   "source": [
    "## 5. List Comprehensions\n",
    "- **Syntax**: `[expression for item in iterable]`\n",
    "- **Conditional Logic**: Filter elements using `if`.\n",
    "- **Nested Comprehensions**: Create matrices or flatten nested lists."
   ]
  },
  {
   "cell_type": "code",
   "execution_count": null,
   "metadata": {},
   "outputs": [],
   "source": [
    "# List comprehensions\n",
    "squares = [x**2 for x in range(10)]\n",
    "evens = [x for x in range(20) if x % 2 == 0]\n",
    "matrix = [[i+j for j in range(3)] for i in range(3)]\n",
    "\n",
    "print(\"Squares:\", squares)\n",
    "print(\"Even numbers:\", evens)\n",
    "print(\"Matrix:\", matrix)"
   ]
  },
  {
   "cell_type": "markdown",
   "metadata": {},
   "source": [
    "## 6. Nested Lists\n",
    "- **Definition**: Lists containing other lists.\n",
    "- **Accessing Elements**: Use multiple indices (e.g., `matrix[0][1]`).\n",
    "- **Iterating Over Nested Lists**: Use nested loops."
   ]
  },
  {
   "cell_type": "code",
   "execution_count": null,
   "metadata": {},
   "outputs": [],
   "source": [
    "# Nested lists\n",
    "matrix = [\n",
    "    [1, 2, 3],\n",
    "    [4, 5, 6],\n",
    "    [7, 8, 9]\n",
    "]\n",
    "\n",
    "print(\"Element at [1][2]:\", matrix[1][2])\n",
    "\n",
    "# Flatten matrix\n",
    "flat = [num for row in matrix for num in row]\n",
    "print(\"Flattened:\", flat)"
   ]
  },
  {
   "cell_type": "markdown",
   "metadata": {},
   "source": [
    "## Task Sheet on Lists"
   ]
  },
  {
   "cell_type": "markdown",
   "metadata": {},
   "source": [
    "### 1. Find Maximum and Minimum Values in a List\n",
    "Write a Python program to find the maximum and minimum values in a given list."
   ]
  },
  {
   "cell_type": "code",
   "execution_count": null,
   "metadata": {},
   "outputs": [],
   "source": []
  },
  {
   "cell_type": "markdown",
   "metadata": {},
   "source": [
    "### 2. Find the Second-Largest Element\n",
    "Given a list of integers, find the second-largest element without sorting the list."
   ]
  },
  {
   "cell_type": "code",
   "execution_count": null,
   "metadata": {},
   "outputs": [],
   "source": []
  },
  {
   "cell_type": "markdown",
   "metadata": {},
   "source": [
    "### 3. Remove Duplicates from a List\n",
    "Write a program to remove duplicate elements from a list while preserving the original order."
   ]
  },
  {
   "cell_type": "code",
   "execution_count": null,
   "metadata": {},
   "outputs": [],
   "source": []
  },
  {
   "cell_type": "markdown",
   "metadata": {},
   "source": [
    "### 4. Find Common Elements Between Two Lists\n",
    "Given two lists, find the common elements and store them in a new list."
   ]
  },
  {
   "cell_type": "code",
   "execution_count": null,
   "metadata": {},
   "outputs": [],
   "source": []
  },
  {
   "cell_type": "markdown",
   "metadata": {},
   "source": [
    "### 5. Check if a List is Sorted\n",
    "Write a Python function to check if a list is sorted in ascending order."
   ]
  },
  {
   "cell_type": "code",
   "execution_count": null,
   "metadata": {},
   "outputs": [],
   "source": []
  },
  {
   "cell_type": "markdown",
   "metadata": {},
   "source": [
    "### 6. Find the Longest String in a List\n",
    "Given a list of strings, write a program to find the longest string in the list."
   ]
  },
  {
   "cell_type": "code",
   "execution_count": null,
   "metadata": {},
   "outputs": [],
   "source": []
  },
  {
   "cell_type": "markdown",
   "metadata": {},
   "source": [
    "### 7. Merge Two Sorted Lists\n",
    "Implement a function to merge two sorted lists into a single sorted list."
   ]
  },
  {
   "cell_type": "code",
   "execution_count": null,
   "metadata": {},
   "outputs": [],
   "source": []
  },
  {
   "cell_type": "markdown",
   "metadata": {},
   "source": [
    "### 8. Sum of Even Numbers\n",
    "Given a list of numbers, write a program to find the sum of all even numbers in the list."
   ]
  },
  {
   "cell_type": "code",
   "execution_count": null,
   "metadata": {},
   "outputs": [],
   "source": []
  },
  {
   "cell_type": "markdown",
   "metadata": {},
   "source": [
    "### 9. Remove All Occurrences of a Specific Element\n",
    "Write a Python program to remove all occurrences of a specific element from a list."
   ]
  },
  {
   "cell_type": "code",
   "execution_count": null,
   "metadata": {},
   "outputs": [],
   "source": []
  },
  {
   "cell_type": "markdown",
   "metadata": {},
   "source": [
    "### 10. Count Word Occurrences\n",
    "Given a list of strings, write a program to count the occurrences of each word in the list and store them in a dictionary."
   ]
  },
  {
   "cell_type": "code",
   "execution_count": null,
   "metadata": {},
   "outputs": [],
   "source": []
  },
  {
   "cell_type": "markdown",
   "metadata": {},
   "source": [
    "### 11. Rotate a List\n",
    "Implement a function to rotate a list by a specified number of positions to the left."
   ]
  },
  {
   "cell_type": "code",
   "execution_count": null,
   "metadata": {},
   "outputs": [],
   "source": []
  },
  {
   "cell_type": "markdown",
   "metadata": {},
   "source": [
    "### 12. Find the kth Smallest Element\n",
    "Write a program to find the kth smallest element in a given list."
   ]
  },
  {
   "cell_type": "code",
   "execution_count": null,
   "metadata": {},
   "outputs": [],
   "source": []
  },
  {
   "cell_type": "markdown",
   "metadata": {},
   "source": [
    "### 13. Find Product of All Elements\n",
    "Given a list of numbers, write a Python function to find the product of all elements in the list."
   ]
  },
  {
   "cell_type": "code",
   "execution_count": null,
   "metadata": {},
   "outputs": [],
   "source": []
  },
  {
   "cell_type": "markdown",
   "metadata": {},
   "source": [
    "### 14. Find First Occurrence Index\n",
    "Write a program to find the index of the first occurrence of a specific element in a list."
   ]
  },
  {
   "cell_type": "code",
   "execution_count": null,
   "metadata": {},
   "outputs": [],
   "source": []
  },
  {
   "cell_type": "markdown",
   "metadata": {},
   "source": [
    "### 15. Flatten a List of Lists\n",
    "Given a list of lists, write a Python function to flatten the list into a single list."
   ]
  },
  {
   "cell_type": "code",
   "execution_count": null,
   "metadata": {},
   "outputs": [],
   "source": []
  }
 ],
 "metadata": {
  "kernelspec": {
   "display_name": "Python 3 (ipykernel)",
   "language": "python",
   "name": "python3"
  },
  "language_info": {
   "codemirror_mode": {
    "name": "ipython",
    "version": 3
   },
   "file_extension": ".py",
   "mimetype": "text/x-python",
   "name": "python",
   "nbconvert_exporter": "python",
   "pygments_lexer": "ipython3",
   "version": "3.13.2"
  }
 },
 "nbformat": 4,
 "nbformat_minor": 4
}
