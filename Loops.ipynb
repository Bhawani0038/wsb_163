{
 "cells": [
  {
   "cell_type": "markdown",
   "id": "58ca3307-d7b2-4af2-9bb2-8685b95ae43c",
   "metadata": {},
   "source": [
    "# Loops in Python - Notes & Practice Questions"
   ]
  },
  {
   "cell_type": "markdown",
   "id": "e1545638-0a24-4e6a-aedf-dfc15b8bbaf7",
   "metadata": {},
   "source": [
    "## Introduction to Loops  \n",
    "Loops allow us to execute a block of code **multiple times** without writing repetitive code. Python provides two types of loops:  \n",
    "- **`for` loop** – Used when the number of iterations is known.  \n",
    "- **`while` loop** – Used when the number of iterations is not known and runs until a condition becomes false.  \n",
    "\n"
   ]
  },
  {
   "cell_type": "markdown",
   "id": "9f22d6d0-3099-464f-9401-1d13a741de4b",
   "metadata": {
    "jp-MarkdownHeadingCollapsed": true
   },
   "source": [
    "## 📌 Understanding the `range()` Function in Python  \n",
    "\n",
    "The `range()` function is used to generate a sequence of numbers, commonly used in loops.  \n",
    "\n",
    "## 🔹 Syntax of `range()`\n",
    "\n",
    "range(start, stop, step)\n",
    "\n",
    "- **`start`** → (Optional) The starting number. Default is `0`.  \n",
    "- **`stop`** → The sequence stops before this number (exclusive).  \n",
    "- **`step`** → (Optional) The difference between each number. Default is `1`.  \n",
    "\n"
   ]
  },
  {
   "cell_type": "markdown",
   "id": "04e1ca47-bc35-4ad6-bc26-bc54c8fb1cf9",
   "metadata": {},
   "source": [
    "## 🔹 Example 1: Basic `range(stop)`\n",
    "If only one argument is provided, it is considered the `stop` value, and the sequence starts from `0`.  "
   ]
  },
  {
   "cell_type": "code",
   "execution_count": null,
   "id": "c6bf7481-05b3-438e-9054-a6b319767cda",
   "metadata": {},
   "outputs": [],
   "source": [
    "for i in range(5):\n",
    "    print(i)"
   ]
  },
  {
   "cell_type": "markdown",
   "id": "28a0b2af-c9dd-46b8-8f4c-9e54eae2f24e",
   "metadata": {},
   "source": [
    "## 🔹 Example 2: `range(start, stop)`\n",
    "Specifying both `start` and `stop` values:  "
   ]
  },
  {
   "cell_type": "code",
   "execution_count": null,
   "id": "f624286b-d33b-4e66-8dad-bee8330850f8",
   "metadata": {},
   "outputs": [],
   "source": [
    "for i in range(2, 7):\n",
    "    print(i)"
   ]
  },
  {
   "cell_type": "markdown",
   "id": "3b3a89f5-a01f-43fa-bb07-58f752d62d8d",
   "metadata": {},
   "source": [
    "## 🔹 Example 3: `range(start, stop, step)`\n",
    "Using a step value to skip numbers:  "
   ]
  },
  {
   "cell_type": "code",
   "execution_count": null,
   "id": "0deb5fdc-97aa-43fc-8d36-554fa8fe1931",
   "metadata": {},
   "outputs": [],
   "source": [
    "for i in range(1, 10, 2):\n",
    "    print(i)"
   ]
  },
  {
   "cell_type": "markdown",
   "id": "68a07abb-f42b-4019-be48-3889e078020a",
   "metadata": {},
   "source": [
    "## 🔹 Example 4: Negative Step (Reverse Sequence)\n",
    "Using a negative step to generate numbers in reverse order:  "
   ]
  },
  {
   "cell_type": "code",
   "execution_count": null,
   "id": "34b5f68e-3524-4a14-8b0c-a7c39a37f58d",
   "metadata": {},
   "outputs": [],
   "source": [
    "for i in range(10, 0, -2):\n",
    "    print(i)"
   ]
  },
  {
   "cell_type": "markdown",
   "id": "27915f1f-97a3-4591-af0b-461a23dc0fc5",
   "metadata": {},
   "source": [
    "## 🔹 Example 5: Converting `range()` to a List\n",
    "The `range()` function can be converted into a list:  "
   ]
  },
  {
   "cell_type": "code",
   "execution_count": null,
   "id": "9b2ce4ff-143d-4b95-bd2a-352ac9506b90",
   "metadata": {},
   "outputs": [],
   "source": [
    "print(list(range(5)))"
   ]
  },
  {
   "cell_type": "markdown",
   "id": "5a687cd5-dc3a-4c66-8e55-60da651a6bae",
   "metadata": {},
   "source": [
    "## 1. `for` Loop  \n",
    "The `for` loop is used to iterate over a sequence like a list, tuple, string, or range."
   ]
  },
  {
   "cell_type": "code",
   "execution_count": null,
   "id": "0a7a953b-7391-4176-b255-b102b4c8ab6a",
   "metadata": {},
   "outputs": [],
   "source": [
    "for i in range(5):\n",
    "    print(\"Hello, World!\", i)"
   ]
  },
  {
   "cell_type": "markdown",
   "id": "43bb5a68-beb7-4c5d-b33a-a33dd5a0c54f",
   "metadata": {},
   "source": [
    "# 📌 Python `for` Loop with List, Tuple, Set, Dictionary, and Nested Loops  \n",
    "\n",
    "The `for` loop in Python is used to iterate over **iterable objects** such as **lists, tuples, sets, and dictionaries**."
   ]
  },
  {
   "cell_type": "markdown",
   "id": "d5b2ddf9-5c01-4ae6-935e-ed2c9d875e15",
   "metadata": {},
   "source": [
    "## 🔹 1. `for` Loop with a **List**  \n",
    "A **list** is an ordered, mutable collection that allows duplicate values.  "
   ]
  },
  {
   "cell_type": "code",
   "execution_count": null,
   "id": "727a2008-37ee-4137-91e1-061ebefe7713",
   "metadata": {},
   "outputs": [],
   "source": [
    "fruits = [\"apple\", \"banana\", \"cherry\"]\n",
    "for fruit in fruits:\n",
    "    print(fruit)"
   ]
  },
  {
   "cell_type": "markdown",
   "id": "107f5648-4111-474c-9f3c-dc83ae0cc950",
   "metadata": {},
   "source": [
    "## 🔹 2. `for` Loop with a **Tuple**  \n",
    "A **tuple** is an ordered, immutable collection that allows duplicate values.  "
   ]
  },
  {
   "cell_type": "code",
   "execution_count": null,
   "id": "baf7afea-c7fb-4640-9f57-12c1010ad19a",
   "metadata": {
    "jp-MarkdownHeadingCollapsed": true
   },
   "outputs": [],
   "source": [
    "colors = (\"red\", \"green\", \"blue\")\n",
    "for color in colors:\n",
    "    print(color)"
   ]
  },
  {
   "cell_type": "markdown",
   "id": "aea9c6cb-ddba-4878-87e6-a6f2b731a752",
   "metadata": {},
   "source": [
    "## 🔹 3. `for` Loop with a **Set**  \n",
    "A **set** is an unordered collection that **does not allow duplicate values**.  "
   ]
  },
  {
   "cell_type": "code",
   "execution_count": null,
   "id": "ff24cd24-33fa-4233-adb2-e511e9ef8fb0",
   "metadata": {},
   "outputs": [],
   "source": [
    "unique_numbers = {1, 2, 3, 4, 5}\n",
    "for number in unique_numbers:\n",
    "    print(number)"
   ]
  },
  {
   "cell_type": "markdown",
   "id": "03e316d7-2cbc-4295-a41d-8b05d6f0a99f",
   "metadata": {},
   "source": [
    "⚠ **Note:** Since sets are unordered, the output order may vary."
   ]
  },
  {
   "cell_type": "markdown",
   "id": "d5afdc80-e899-4961-9d81-de0823f3c8bd",
   "metadata": {},
   "source": [
    "## 🔹 4. `for` Loop with a **Dictionary**  \n",
    "A **dictionary** stores data in key-value pairs. We can loop through:  \n",
    "- **Keys**\n",
    "- **Values**\n",
    "- **Both (key-value pairs)**  "
   ]
  },
  {
   "cell_type": "markdown",
   "id": "c0bd515c-3dcb-4074-a511-74e192ca80f0",
   "metadata": {},
   "source": [
    "### 🔸 Looping through Keys  "
   ]
  },
  {
   "cell_type": "code",
   "execution_count": null,
   "id": "c833521a-0901-49d3-953d-99f49c07335d",
   "metadata": {},
   "outputs": [],
   "source": [
    "student_scores = {\"Alice\": 85, \"Bob\": 90, \"Charlie\": 78}\n",
    "for name in student_scores:\n",
    "    print(name)"
   ]
  },
  {
   "cell_type": "markdown",
   "id": "bf82f65e-d123-48c5-84be-3ac9a67c8a43",
   "metadata": {},
   "source": [
    "### 🔸 Looping through Values  "
   ]
  },
  {
   "cell_type": "code",
   "execution_count": null,
   "id": "82d26445-5b93-4c2c-8cf1-22d1c9442195",
   "metadata": {},
   "outputs": [],
   "source": [
    "for score in student_scores.values():\n",
    "    print(score)"
   ]
  },
  {
   "cell_type": "markdown",
   "id": "5f42643b-f8be-4ade-a2e8-e95864ef5993",
   "metadata": {},
   "source": [
    "### 🔸 Looping through Key-Value Pairs  "
   ]
  },
  {
   "cell_type": "code",
   "execution_count": null,
   "id": "fc66b132-a0ca-4c58-af95-d877ee20ddf2",
   "metadata": {},
   "outputs": [],
   "source": [
    "for name, score in student_scores.items():\n",
    "    print(name, \"->\", score)"
   ]
  },
  {
   "cell_type": "markdown",
   "id": "7d020de8-dfce-434e-af3b-ae20202cad8c",
   "metadata": {},
   "source": [
    "## 🔹 5. **Nested `for` Loops**  \n",
    "A **nested loop** means having one `for` loop inside another.  "
   ]
  },
  {
   "cell_type": "markdown",
   "id": "192244a4-78f0-4847-8c9c-b541dc94cf9c",
   "metadata": {},
   "source": [
    "### 🔸 Example: Multiplication Table  "
   ]
  },
  {
   "cell_type": "code",
   "execution_count": null,
   "id": "3be731e4-5ae3-46c4-990d-e4bf7d1dc073",
   "metadata": {},
   "outputs": [],
   "source": [
    "for i in range(1, 4):\n",
    "    for j in range(1, 4):\n",
    "        print(f\"{i} × {j} = {i*j}\")"
   ]
  },
  {
   "cell_type": "markdown",
   "id": "b7bb1ec4-a4a0-4132-8bfe-cbafeb2a979a",
   "metadata": {},
   "source": [
    "### 🔸 Example: Printing a Matrix  "
   ]
  },
  {
   "cell_type": "code",
   "execution_count": null,
   "id": "bc7d00e8-c4a4-45dd-8dfc-9388a589f64c",
   "metadata": {},
   "outputs": [],
   "source": [
    "matrix = [[1, 2, 3], [4, 5, 6], [7, 8, 9]]\n",
    "for row in matrix:\n",
    "    for element in row:\n",
    "        print(element, end=\" \")\n",
    "    print()  # New line after each row"
   ]
  },
  {
   "cell_type": "markdown",
   "id": "3f690052-a120-4d6d-a9cd-3c0d6e02752f",
   "metadata": {},
   "source": [
    "## 🚀 **Key Takeaways**  \n",
    "✔ **Lists, Tuples, Sets, and Dictionaries** are iterable using `for` loops.  \n",
    "✔ **Sets are unordered**, so iteration order is unpredictable.  \n",
    "✔ **Dictionaries** allow iteration over **keys, values, or both**.  \n",
    "✔ **Nested loops** are useful for working with **matrices and patterns**.  \n"
   ]
  },
  {
   "cell_type": "markdown",
   "id": "0dfffccf-9163-47f4-a186-de94e8b47332",
   "metadata": {},
   "source": [
    "\n",
    "\n",
    "## 2. `while` Loop  \n",
    "The `while` loop executes as long as the given condition is `True`."
   ]
  },
  {
   "cell_type": "markdown",
   "id": "d1f08475-992a-403d-a34f-cf7728ef4449",
   "metadata": {},
   "source": [
    "### **Syntax**"
   ]
  },
  {
   "cell_type": "code",
   "execution_count": null,
   "id": "3e107d21-bf8d-4ef1-bf72-76c54ff5c40c",
   "metadata": {},
   "outputs": [],
   "source": [
    "while condition:\n",
    "    # Code to execute\n"
   ]
  },
  {
   "cell_type": "markdown",
   "id": "3b461ba7-df89-4c7e-9a95-cfdd622fcc14",
   "metadata": {},
   "source": [
    "### **Example:**"
   ]
  },
  {
   "cell_type": "code",
   "execution_count": null,
   "id": "ad51e734-994d-4d1f-af72-8c0ab04efd44",
   "metadata": {},
   "outputs": [],
   "source": [
    "count = 0\n",
    "while count < 5:\n",
    "    print(\"Loop iteration:\", count)\n",
    "    count += 1"
   ]
  },
  {
   "cell_type": "markdown",
   "id": "3874dc5f-6cb1-4a4c-86a4-910f30b404d1",
   "metadata": {},
   "source": [
    "## Practice Questions  "
   ]
  },
  {
   "cell_type": "markdown",
   "id": "2e238876-c150-4079-8f88-25717da29d1d",
   "metadata": {},
   "source": [
    "### **Basic Loop Questions**  "
   ]
  },
  {
   "cell_type": "markdown",
   "id": "4f8046bb-1f44-4698-9f49-0d19894d8531",
   "metadata": {
    "jp-MarkdownHeadingCollapsed": true
   },
   "source": [
    "1. Write a program to **print numbers from 1 to 10** using a `for` loop.  \n",
    "   "
   ]
  },
  {
   "cell_type": "code",
   "execution_count": null,
   "id": "440dbe01-ead6-460c-b276-e0bd2077d3b3",
   "metadata": {},
   "outputs": [],
   "source": []
  },
  {
   "cell_type": "markdown",
   "id": "2e8b71d9-55e2-4ad9-a284-ff0181b385ce",
   "metadata": {},
   "source": [
    "2. Write a program to **print even numbers from 1 to 20** using a `for` loop.  \n",
    "   "
   ]
  },
  {
   "cell_type": "code",
   "execution_count": null,
   "id": "00b26d50-dd09-432a-a3ef-fe2237c70227",
   "metadata": {},
   "outputs": [],
   "source": []
  },
  {
   "cell_type": "markdown",
   "id": "7a8310f6-153e-4fd8-8a53-7d60389fffd1",
   "metadata": {},
   "source": [
    "3. Write a program to **print numbers from 10 to 1** in reverse order using a `while` loop.  \n",
    "   "
   ]
  },
  {
   "cell_type": "code",
   "execution_count": null,
   "id": "077e6285-e6a2-4024-819f-bc6491e5f314",
   "metadata": {},
   "outputs": [],
   "source": []
  },
  {
   "cell_type": "markdown",
   "id": "f0864a80-aa97-4727-906c-27e6e10ca0a0",
   "metadata": {},
   "source": [
    "4. Write a program that **calculates the sum of all numbers from 1 to 50** using a loop.  \n",
    "   "
   ]
  },
  {
   "cell_type": "code",
   "execution_count": null,
   "id": "4cbaee4f-9417-4bfd-9888-cebbf728999a",
   "metadata": {},
   "outputs": [],
   "source": []
  },
  {
   "cell_type": "markdown",
   "id": "87661f01-9425-4b0a-a5c9-d1a9d06ddaff",
   "metadata": {},
   "source": [
    "### **Intermediate Loop Questions**  "
   ]
  },
  {
   "cell_type": "markdown",
   "id": "55be3be6-2606-470d-a70c-50ba1ed948ab",
   "metadata": {},
   "source": [
    "5. Write a program to **print the multiplication table of a number** entered by the user.  \n",
    "   "
   ]
  },
  {
   "cell_type": "code",
   "execution_count": null,
   "id": "3f905f28-ab52-46ac-8de1-fbb453146445",
   "metadata": {},
   "outputs": [],
   "source": []
  },
  {
   "cell_type": "markdown",
   "id": "1c472db8-31e9-4e4f-9895-98a02acb5aa8",
   "metadata": {},
   "source": [
    "6. Write a program that **counts the number of digits in a given number** using a `while` loop.  \n",
    "   "
   ]
  },
  {
   "cell_type": "code",
   "execution_count": null,
   "id": "7ebcea51-21b6-48bf-8733-d55f085af8b5",
   "metadata": {},
   "outputs": [],
   "source": []
  },
  {
   "cell_type": "markdown",
   "id": "8fbc46b8-42b0-4fab-a3ab-049cbd2e6568",
   "metadata": {},
   "source": [
    "7. Write a program to **reverse a given number** (e.g., `12345` → `54321`).  \n",
    "   "
   ]
  },
  {
   "cell_type": "code",
   "execution_count": null,
   "id": "e45d7886-1676-497b-ab0c-590f8d34a678",
   "metadata": {},
   "outputs": [],
   "source": []
  },
  {
   "cell_type": "markdown",
   "id": "4b5949c2-a72f-452f-ab4c-6ce0856a3ba8",
   "metadata": {},
   "source": [
    "8. Write a program to **find the factorial of a number** using a loop.  \n",
    "   "
   ]
  },
  {
   "cell_type": "code",
   "execution_count": null,
   "id": "6cf5e5cd-88f2-4fce-bb69-59e69697bc21",
   "metadata": {},
   "outputs": [],
   "source": []
  },
  {
   "cell_type": "markdown",
   "id": "09140423-124b-49ad-89fb-8e3e5734152f",
   "metadata": {},
   "source": [
    "### **Advanced Loop Questions**  "
   ]
  },
  {
   "cell_type": "markdown",
   "id": "b9d83118-411f-4540-aee6-13de84f49bb1",
   "metadata": {},
   "source": [
    "9. Write a program to **check if a number is prime** using a loop.  \n",
    "   "
   ]
  },
  {
   "cell_type": "code",
   "execution_count": null,
   "id": "a82a32ff-c42c-47f4-98d5-3385ff556d63",
   "metadata": {},
   "outputs": [],
   "source": []
  },
  {
   "cell_type": "markdown",
   "id": "898fa495-49b2-40c9-9057-b638b1ccddfa",
   "metadata": {},
   "source": [
    "10. Write a program that prints the **Fibonacci series up to n terms**.  \n",
    "   "
   ]
  },
  {
   "cell_type": "code",
   "execution_count": null,
   "id": "175c0933-4438-4569-a0f6-5f717d55661c",
   "metadata": {},
   "outputs": [],
   "source": []
  },
  {
   "cell_type": "markdown",
   "id": "d61bdad1-9388-413f-a080-a2fe30e5548e",
   "metadata": {},
   "source": [
    "11. Write a program to find the **sum of digits of a given number** using a loop.  \n",
    "   "
   ]
  },
  {
   "cell_type": "code",
   "execution_count": null,
   "id": "ee12fa8b-67cd-46bf-ae96-910d12e88f61",
   "metadata": {},
   "outputs": [],
   "source": []
  },
  {
   "cell_type": "markdown",
   "id": "74703fd0-904a-42ff-9fb3-ace55a77fe6e",
   "metadata": {},
   "source": [
    "### **Bonus Challenge**  "
   ]
  },
  {
   "cell_type": "markdown",
   "id": "9750e762-5080-4da8-9e58-c8718568b054",
   "metadata": {},
   "source": [
    "12. Write a program to generate the following number pattern using loops:  \n",
    "   "
   ]
  },
  {
   "cell_type": "code",
   "execution_count": null,
   "id": "c11861c9-7c25-40b8-9c0a-2f1af1bff453",
   "metadata": {},
   "outputs": [],
   "source": []
  },
  {
   "cell_type": "markdown",
   "id": "0987b7d9-30a1-4fd4-bd15-79525bd0ccf0",
   "metadata": {},
   "source": [
    "13. Write a program to **find the greatest common divisor (GCD)** of two numbers using loops.  \n",
    "   "
   ]
  },
  {
   "cell_type": "code",
   "execution_count": null,
   "id": "4275e857-d042-4613-8777-1d7b5f75beae",
   "metadata": {},
   "outputs": [],
   "source": []
  },
  {
   "cell_type": "markdown",
   "id": "80d4f9ef-f32c-4c36-8bee-783cbb24fe5f",
   "metadata": {},
   "source": [
    "14. Write a program to **check if a number is an Armstrong number** (e.g., `153 = 1³ + 5³ + 3³`).  \n",
    "   "
   ]
  },
  {
   "cell_type": "code",
   "execution_count": null,
   "id": "3cf8f491-166d-4b2d-8c08-cbf5b49d7ba0",
   "metadata": {},
   "outputs": [],
   "source": []
  },
  {
   "cell_type": "markdown",
   "id": "45001a0f-bfdc-489a-8b82-1aad0172a94e",
   "metadata": {},
   "source": [
    "# 🏆 Python Pattern Printing Practice Questions 🏆  "
   ]
  },
  {
   "cell_type": "markdown",
   "id": "ab8d8522-6e64-4c53-bab4-553fddb87357",
   "metadata": {},
   "source": [
    "## 🔹 Instructions  \n",
    "- Use **nested loops** (`for` or `while`) to generate the patterns.  \n",
    "- Use `print()` with appropriate formatting (`end=\" \"`, `\\t`, etc.) to align the output properly.  \n",
    "- Try to solve each question without looking at the answers.  "
   ]
  },
  {
   "cell_type": "markdown",
   "id": "91976ab3-d522-4f38-8161-1ab6e5657277",
   "metadata": {},
   "source": [
    "\n",
    "\n",
    "## 🌟 1. Right-Angled Triangle Pattern  "
   ]
  },
  {
   "cell_type": "markdown",
   "id": "192e025c-c614-4e28-9840-cccc952a4dbf",
   "metadata": {},
   "source": [
    "Print the following pattern for `n = 5`:  "
   ]
  },
  {
   "cell_type": "raw",
   "id": "07dc9361-7c69-455e-b5d6-fe6c50d249b6",
   "metadata": {},
   "source": [
    "*\n",
    "**\n",
    "***\n",
    "****\n",
    "*****"
   ]
  },
  {
   "cell_type": "code",
   "execution_count": null,
   "id": "624c4f27-d9f3-4ab4-ad9a-f6e6409d2aa4",
   "metadata": {},
   "outputs": [],
   "source": []
  },
  {
   "cell_type": "markdown",
   "id": "6e7375a9-9f8d-4ba7-8dfe-c89bae5556c8",
   "metadata": {},
   "source": []
  },
  {
   "cell_type": "markdown",
   "id": "63f6a12e-b984-4683-b3f5-a677b844c7e6",
   "metadata": {},
   "source": [
    "## 🌟 2. Inverted Right-Angled Triangle  "
   ]
  },
  {
   "cell_type": "markdown",
   "id": "94089c58-42b4-4939-91df-7a5d6ce32d84",
   "metadata": {},
   "source": [
    "Print the following pattern for `n = 5`:  "
   ]
  },
  {
   "cell_type": "raw",
   "id": "e43b9f88-12a3-4599-84bb-58a4c03d3ba5",
   "metadata": {},
   "source": [
    "*****\n",
    "****\n",
    "***\n",
    "**\n",
    "*"
   ]
  },
  {
   "cell_type": "code",
   "execution_count": null,
   "id": "a24aa6e0-d0eb-45ad-8953-fed3f27cc390",
   "metadata": {},
   "outputs": [],
   "source": []
  },
  {
   "cell_type": "markdown",
   "id": "9fd353da-9134-44ed-9b89-5fe9052871c8",
   "metadata": {},
   "source": []
  },
  {
   "cell_type": "markdown",
   "id": "3879acf6-52e5-4e36-8842-ae998952e935",
   "metadata": {},
   "source": [
    "## 🌟 3. Number Pyramid  \n",
    "Print the following pattern for `n = 5`:  \n",
    "\n",
    "1  \n",
    "1 2  \n",
    "1 2 3  \n",
    "1 2 3 4  \n",
    "1 2 3 4 5  "
   ]
  },
  {
   "cell_type": "code",
   "execution_count": null,
   "id": "69798035-8fc4-45f1-8cb8-c47289f49c07",
   "metadata": {},
   "outputs": [],
   "source": []
  },
  {
   "cell_type": "markdown",
   "id": "787a7a2f-3262-4c0f-adb6-dabe0ede7b0d",
   "metadata": {},
   "source": []
  },
  {
   "cell_type": "markdown",
   "id": "ca4f25c4-776e-46ba-a2a1-1d9466236cfc",
   "metadata": {},
   "source": [
    "## 🌟 4. Reverse Number Triangle  \n",
    "Print the following pattern for `n = 5`:  \n",
    "\n",
    "5  \n",
    "5 4  \n",
    "5 4 3  \n",
    "5 4 3 2  \n",
    "5 4 3 2 1  "
   ]
  },
  {
   "cell_type": "code",
   "execution_count": null,
   "id": "7fd76c1f-7137-4942-a2e7-48bc527f2620",
   "metadata": {},
   "outputs": [],
   "source": []
  },
  {
   "cell_type": "markdown",
   "id": "34e9b080-2bb4-49cd-a738-1e30a01f8554",
   "metadata": {},
   "source": []
  },
  {
   "cell_type": "markdown",
   "id": "a1dcfc6e-549f-4755-9aaa-8d57c2acb8c6",
   "metadata": {},
   "source": [
    "## 🌟 5. Symmetric Star Pattern  \n",
    "Print the following pattern for `n = 5`:  "
   ]
  },
  {
   "cell_type": "raw",
   "id": "3ad2f0e6-c53e-45d4-bd1c-4fab64cd49af",
   "metadata": {},
   "source": [
    "    *    \n",
    "   ***   \n",
    "  *****  \n",
    " ******* \n",
    "*********"
   ]
  },
  {
   "cell_type": "code",
   "execution_count": null,
   "id": "a30cea67-156d-4a21-b833-18c569072fd0",
   "metadata": {},
   "outputs": [],
   "source": []
  },
  {
   "cell_type": "markdown",
   "id": "0e36c77d-e085-4a95-88ac-1e06854780f5",
   "metadata": {},
   "source": []
  },
  {
   "cell_type": "markdown",
   "id": "78c84175-aec6-4782-96a9-06a5f0afbcd8",
   "metadata": {},
   "source": [
    "## 🌟 6. Inverted Pyramid Pattern  \n",
    "Print the following pattern for `n = 5`:  "
   ]
  },
  {
   "cell_type": "raw",
   "id": "9667c561-e79b-4771-a349-bbfac444e9f2",
   "metadata": {},
   "source": [
    "*********\n",
    " ******* \n",
    "  *****  \n",
    "   ***   \n",
    "    *    "
   ]
  },
  {
   "cell_type": "code",
   "execution_count": null,
   "id": "390286a5-2895-476c-ac20-42e2e29f42b1",
   "metadata": {},
   "outputs": [],
   "source": []
  },
  {
   "cell_type": "markdown",
   "id": "419c15e4-0db9-4b12-9961-c5be72f515ca",
   "metadata": {},
   "source": []
  },
  {
   "cell_type": "markdown",
   "id": "d0c32848-4a31-45c0-89dd-c58b88c9c692",
   "metadata": {},
   "source": [
    "## 🌟 7. Diamond Star Pattern  \n",
    "Print the following pattern for `n = 5`:  "
   ]
  },
  {
   "cell_type": "raw",
   "id": "ca0bf802-22a9-458a-9221-9992edcff448",
   "metadata": {},
   "source": [
    "    *    \n",
    "   ***   \n",
    "  *****  \n",
    " ******* \n",
    "*********\n",
    " ******* \n",
    "  *****  \n",
    "   ***   \n",
    "    *    "
   ]
  },
  {
   "cell_type": "code",
   "execution_count": null,
   "id": "e6ba9f78-a4cd-491e-a854-c9ee32086953",
   "metadata": {},
   "outputs": [],
   "source": []
  },
  {
   "cell_type": "markdown",
   "id": "6a0d112f-1959-4078-9ebb-8db13264f2c4",
   "metadata": {},
   "source": []
  },
  {
   "cell_type": "markdown",
   "id": "79a32812-28bd-4c63-8ace-2189634b2b6a",
   "metadata": {},
   "source": [
    "## 🌟 8. Hollow Rectangle Pattern  \n",
    "Print the following pattern for `n = 5`:  "
   ]
  },
  {
   "cell_type": "raw",
   "id": "37c7f865-488f-4e3f-a4e3-f1bd79584dbe",
   "metadata": {},
   "source": [
    "*****\n",
    "*   *\n",
    "*   *\n",
    "*   *\n",
    "*****"
   ]
  },
  {
   "cell_type": "code",
   "execution_count": null,
   "id": "e87c2638-7960-4935-b0b8-cc3f879138da",
   "metadata": {},
   "outputs": [],
   "source": []
  },
  {
   "cell_type": "markdown",
   "id": "de95e39d-bd40-422d-b8ef-b62f595c3bb2",
   "metadata": {},
   "source": []
  },
  {
   "cell_type": "markdown",
   "id": "67480841-fa77-4f65-ba5a-d1a9e2e53ed9",
   "metadata": {},
   "source": [
    "## 🌟 9. Hollow Pyramid Pattern  \n",
    "Print the following pattern for `n = 5`:  "
   ]
  },
  {
   "cell_type": "raw",
   "id": "b7abe75b-43fe-46a1-9297-5e0ac9814080",
   "metadata": {},
   "source": [
    "    *    \n",
    "   * *   \n",
    "  *   *  \n",
    " *     * \n",
    "*********"
   ]
  },
  {
   "cell_type": "code",
   "execution_count": null,
   "id": "25101f46-d301-4438-bebe-f6b11e50e1dd",
   "metadata": {},
   "outputs": [],
   "source": []
  },
  {
   "cell_type": "markdown",
   "id": "b93d3818-32a2-47ab-9ecd-5e070fa2da11",
   "metadata": {},
   "source": [
    "## 🌟 10. Floyd’s Triangle  \n",
    "Print the following pattern for `n = 5`:  \n",
    "\n",
    "1  \n",
    "2 3  \n",
    "4 5 6  \n",
    "7 8 9 10  \n",
    "11 12 13 14 15  "
   ]
  },
  {
   "cell_type": "code",
   "execution_count": null,
   "id": "cf9b654b-aeb7-44b2-9007-1b9d3a65fe8f",
   "metadata": {},
   "outputs": [],
   "source": []
  },
  {
   "cell_type": "markdown",
   "id": "de3373b9-0db7-4eb2-ab5e-a0772b587290",
   "metadata": {},
   "source": []
  },
  {
   "cell_type": "markdown",
   "id": "2766f234-7d60-4f9e-8ece-e6d12d0ec89a",
   "metadata": {},
   "source": [
    "# `break` and `continue` Statements  \n",
    "- **`break`**: Exits the loop when encountered.  \n",
    "- **`continue`**: Skips the current iteration and moves to the next one."
   ]
  },
  {
   "cell_type": "markdown",
   "id": "a6b2322b-207e-4f49-8c41-3a14b6cbed04",
   "metadata": {},
   "source": [
    "### **Example (`break`):**"
   ]
  },
  {
   "cell_type": "code",
   "execution_count": null,
   "id": "2a48e809-1206-4b7f-9d07-b443f44f6712",
   "metadata": {},
   "outputs": [],
   "source": [
    "for i in range(10):\n",
    "    if i == 5:\n",
    "        break\n",
    "    print(i)\n"
   ]
  },
  {
   "cell_type": "markdown",
   "id": "00b45d65-5f36-4f68-a36a-3a4d6030f0ee",
   "metadata": {},
   "source": [
    "### **Example (`continue`):**"
   ]
  },
  {
   "cell_type": "code",
   "execution_count": null,
   "id": "6d8e3165-3c44-409a-b71a-5f2658d72f6a",
   "metadata": {},
   "outputs": [],
   "source": [
    "for i in range(10):\n",
    "    if i == 5:\n",
    "        continue\n",
    "    print(i)\n"
   ]
  },
  {
   "cell_type": "markdown",
   "id": "fb7200e4-d4a9-440f-be7f-4c0751cdbb55",
   "metadata": {},
   "source": [
    "# 🏆 Python `while` Loop Practice Questions 🏆  "
   ]
  },
  {
   "cell_type": "markdown",
   "id": "59019d86-6023-4e3f-a93a-cfe710041850",
   "metadata": {},
   "source": [
    "## 🔹 Instructions  \n",
    "- Use a `while` loop to solve each problem.  \n",
    "- Ensure your loop has a stopping condition to prevent infinite loops.  \n",
    "- Try different variations of the problems for better practice.  "
   ]
  },
  {
   "cell_type": "markdown",
   "id": "6883fe90-00fe-432f-87e1-bbe21b73ce9e",
   "metadata": {},
   "source": [
    "## 🌟 1. Print Numbers from 1 to 10  \n",
    "Write a `while` loop that prints numbers from `1` to `10`.  "
   ]
  },
  {
   "cell_type": "code",
   "execution_count": null,
   "id": "f0a32892-97ca-4d15-982c-ca8428bdeacd",
   "metadata": {},
   "outputs": [],
   "source": []
  },
  {
   "cell_type": "markdown",
   "id": "287db0a3-115d-4fe8-b4e7-aa00d0138933",
   "metadata": {},
   "source": [
    "## 🌟 2. Print Even Numbers from 2 to 20  \n",
    "Use a `while` loop to print all even numbers between `2` and `20`.  "
   ]
  },
  {
   "cell_type": "code",
   "execution_count": null,
   "id": "9fd2808b-bb72-4c89-a991-8ddb60103334",
   "metadata": {},
   "outputs": [],
   "source": []
  },
  {
   "cell_type": "markdown",
   "id": "baf73e75-09cf-4be0-8c3b-b9e9e4a89fc6",
   "metadata": {},
   "source": [
    "## 🌟 3. Sum of First N Natural Numbers  \n",
    "Write a `while` loop that calculates the sum of the first `N` natural numbers.  \n",
    "Example: If `N = 5`, the sum is `1 + 2 + 3 + 4 + 5 = 15`.  "
   ]
  },
  {
   "cell_type": "code",
   "execution_count": null,
   "id": "21ddefc0-ff8a-43e7-a7d1-41aedee4cdeb",
   "metadata": {},
   "outputs": [],
   "source": []
  },
  {
   "cell_type": "markdown",
   "id": "d987b637-0584-461a-a08e-1b8606fa91e1",
   "metadata": {},
   "source": [
    "## 🌟 4. Reverse Number Printing  \n",
    "Take a number `N` as input and print all numbers from `N` to `1` using a `while` loop.  "
   ]
  },
  {
   "cell_type": "code",
   "execution_count": null,
   "id": "249efece-af38-445f-8ef1-f4af29491834",
   "metadata": {},
   "outputs": [],
   "source": []
  },
  {
   "cell_type": "markdown",
   "id": "97ff784f-17d9-4dbe-92e3-eb515337bb04",
   "metadata": {},
   "source": [
    "## 🌟 5. Find Factorial of a Number  \n",
    "Write a `while` loop to calculate the factorial of a given number `N`.  "
   ]
  },
  {
   "cell_type": "code",
   "execution_count": null,
   "id": "337cc48e-1a42-4081-9f76-a7747c726028",
   "metadata": {},
   "outputs": [],
   "source": []
  },
  {
   "cell_type": "markdown",
   "id": "fd54fba6-1af7-43b8-9807-23e292aef4c2",
   "metadata": {},
   "source": [
    "## 🌟 6. Print Digits of a Number  \n",
    "Take a number as input and print each digit separately using a `while` loop.  "
   ]
  },
  {
   "cell_type": "code",
   "execution_count": null,
   "id": "0a8dcd30-a7f9-4751-bf7b-159aa392ce72",
   "metadata": {},
   "outputs": [],
   "source": []
  },
  {
   "cell_type": "markdown",
   "id": "7679f501-a7ee-4394-82b9-2ab982350553",
   "metadata": {},
   "source": [
    "## 🌟 7. Count Digits in a Number  \n",
    "Write a `while` loop that counts the number of digits in a given number.  "
   ]
  },
  {
   "cell_type": "code",
   "execution_count": null,
   "id": "1fe28384-8d07-4ab0-9bed-c696b496b84e",
   "metadata": {},
   "outputs": [],
   "source": []
  },
  {
   "cell_type": "markdown",
   "id": "15200556-0238-4830-97a2-f64ac3ca0436",
   "metadata": {},
   "source": [
    "## 🌟 8. Reverse a Number  \n",
    "Take a number as input and reverse its digits using a `while` loop.  \n",
    "Example: `1234` should be reversed to `4321`.  "
   ]
  },
  {
   "cell_type": "code",
   "execution_count": null,
   "id": "eb1b8fa8-59d2-4d86-afc7-4b68cd413e0f",
   "metadata": {},
   "outputs": [],
   "source": []
  },
  {
   "cell_type": "markdown",
   "id": "13fbee6b-e100-43d1-93a3-c60c133a0972",
   "metadata": {},
   "source": [
    "## 🌟 9. Check If a Number is Palindrome  \n",
    "Write a `while` loop to check if a given number is a palindrome (same forward and backward).  "
   ]
  },
  {
   "cell_type": "code",
   "execution_count": null,
   "id": "e1eb120d-c6a6-4b21-b295-5e3df3bb875c",
   "metadata": {},
   "outputs": [],
   "source": []
  },
  {
   "cell_type": "markdown",
   "id": "c83cf994-3a4a-4be1-9db3-11e9fe1d2650",
   "metadata": {},
   "source": [
    "## 🌟 10. Sum of Digits of a Number  \n",
    "Write a `while` loop to calculate the sum of digits of a given number.  "
   ]
  },
  {
   "cell_type": "code",
   "execution_count": null,
   "id": "2528b2c9-721d-4cce-bc4a-eba315273b03",
   "metadata": {},
   "outputs": [],
   "source": []
  },
  {
   "cell_type": "markdown",
   "id": "ebe69a98-83d8-4c2d-9f5b-8346e8e85377",
   "metadata": {},
   "source": [
    "## 🌟 11. Generate Fibonacci Series  \n",
    "Write a `while` loop to generate the Fibonacci series up to `N` terms.  \n",
    "Example: `0, 1, 1, 2, 3, 5, 8, ...`  "
   ]
  },
  {
   "cell_type": "code",
   "execution_count": null,
   "id": "00f75346-7bbc-4ffe-ab4a-16adbeea2020",
   "metadata": {},
   "outputs": [],
   "source": []
  },
  {
   "cell_type": "markdown",
   "id": "ba54bfc0-7b2f-4767-a989-16991877ea84",
   "metadata": {},
   "source": [
    "## 🌟 12. Check If a Number is Prime  \n",
    "Use a `while` loop to check if a given number is a prime number.  "
   ]
  },
  {
   "cell_type": "code",
   "execution_count": null,
   "id": "c2422832-6725-488a-bb3b-e6e69760cceb",
   "metadata": {},
   "outputs": [],
   "source": []
  },
  {
   "cell_type": "markdown",
   "id": "92c47be6-0a6c-458f-b57c-8faecd98c9dc",
   "metadata": {},
   "source": [
    "## 🌟 13. Find the Greatest Common Divisor (GCD)  \n",
    "Write a `while` loop to find the **GCD** of two numbers using the Euclidean algorithm.  "
   ]
  },
  {
   "cell_type": "code",
   "execution_count": null,
   "id": "87b7950b-13ac-4bff-821e-fc4203e30343",
   "metadata": {},
   "outputs": [],
   "source": []
  },
  {
   "cell_type": "markdown",
   "id": "04c38efe-76ee-46ed-b990-a5ea586ed418",
   "metadata": {},
   "source": [
    "## 🌟 14. Print Multiplication Table  \n",
    "Take a number as input and print its multiplication table using a `while` loop.  "
   ]
  },
  {
   "cell_type": "code",
   "execution_count": null,
   "id": "c19da476-3bd3-4b75-906e-47f675f263e2",
   "metadata": {},
   "outputs": [],
   "source": []
  },
  {
   "cell_type": "markdown",
   "id": "f07ed048-2a32-460c-9179-9ce0873894e3",
   "metadata": {},
   "source": [
    "## 🌟 15. Guess the Number Game 🎯  \n",
    "- Generate a random number between `1` and `100`.  \n",
    "- Ask the user to guess the number.  \n",
    "- Keep running the loop until the user guesses the correct number.  \n",
    "- Provide hints like **\"Too high\"** or **\"Too low\"** after each guess.  "
   ]
  },
  {
   "cell_type": "code",
   "execution_count": null,
   "id": "2d08d73f-d5e7-4dee-b84d-6f1d608545e7",
   "metadata": {},
   "outputs": [],
   "source": []
  },
  {
   "cell_type": "markdown",
   "id": "28dc9e75-89f1-46cd-a7a2-557f94036f7b",
   "metadata": {},
   "source": [
    "## 🎯 **Challenge Questions**  "
   ]
  },
  {
   "cell_type": "markdown",
   "id": "294e594c-d507-4b4b-a555-ea7bdd3097d2",
   "metadata": {},
   "source": [
    "### 🔥 16. Collatz Conjecture  \n",
    "Take a number `N`. If it's even, divide it by `2`. If it's odd, multiply it by `3` and add `1`. Repeat until you reach `1`.  "
   ]
  },
  {
   "cell_type": "code",
   "execution_count": null,
   "id": "e6b22012-07f8-4db0-a2c7-411fde9345f5",
   "metadata": {},
   "outputs": [],
   "source": []
  },
  {
   "cell_type": "markdown",
   "id": "8e846d52-499c-4e74-9401-8369b1ed9d9d",
   "metadata": {},
   "source": [
    "### 🔥 17. Convert Decimal to Binary  \n",
    "Take a decimal number as input and convert it to binary using a `while` loop.  "
   ]
  },
  {
   "cell_type": "code",
   "execution_count": null,
   "id": "b8854331-8787-458e-85d7-e20f69449cb1",
   "metadata": {},
   "outputs": [],
   "source": []
  },
  {
   "cell_type": "markdown",
   "id": "058d3bf2-af6a-40bf-b203-852bbdcab788",
   "metadata": {},
   "source": [
    "### 🔥 18. Print Numbers in Words  \n",
    "Example: If input is `123`, output should be **\"One Two Three\"**.  "
   ]
  },
  {
   "cell_type": "code",
   "execution_count": null,
   "id": "91c2ed07-f345-4ba5-8dba-9939ca62a517",
   "metadata": {},
   "outputs": [],
   "source": []
  },
  {
   "cell_type": "markdown",
   "id": "e32e022d-4a84-4b44-b46e-64b51157defd",
   "metadata": {},
   "source": [
    "### 🔥 19. Armstrong Number Checker  \n",
    "Check if a given number is an **Armstrong number** (sum of digits raised to the power of the number of digits equals the number itself).  "
   ]
  },
  {
   "cell_type": "code",
   "execution_count": null,
   "id": "23cff8c7-845d-41b1-b6f4-f076ea5dc707",
   "metadata": {},
   "outputs": [],
   "source": []
  },
  {
   "cell_type": "markdown",
   "id": "18e28e04-757d-4789-bbd8-0feb5d9013d7",
   "metadata": {},
   "source": [
    "### 🔥 20. ATM Machine Simulation  \n",
    "- Set a default balance.  \n",
    "- Ask the user for withdrawal amount.  \n",
    "- Deduct from balance if sufficient, otherwise show **\"Insufficient Funds\"**.  \n",
    "- Keep running the loop until the user exits.  "
   ]
  },
  {
   "cell_type": "code",
   "execution_count": null,
   "id": "db34e388-741e-4650-8071-94b97e731a03",
   "metadata": {},
   "outputs": [],
   "source": []
  }
 ],
 "metadata": {
  "kernelspec": {
   "display_name": "Python 3 (ipykernel)",
   "language": "python",
   "name": "python3"
  },
  "language_info": {
   "codemirror_mode": {
    "name": "ipython",
    "version": 3
   },
   "file_extension": ".py",
   "mimetype": "text/x-python",
   "name": "python",
   "nbconvert_exporter": "python",
   "pygments_lexer": "ipython3",
   "version": "3.13.2"
  }
 },
 "nbformat": 4,
 "nbformat_minor": 5
}
