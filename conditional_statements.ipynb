{
 "cells": [
  {
   "cell_type": "markdown",
   "id": "5aa8c4ac-eded-4a1f-b776-44d420d4ed91",
   "metadata": {},
   "source": [
    "# Conditional Statements in Python\n",
    "\n",
    "Conditional statements allow us to execute a block of code only if a certain condition is met.  \n",
    "In Python, we use the following conditional statements:"
   ]
  },
  {
   "cell_type": "markdown",
   "id": "c1ee1d6c-559e-438b-bb18-e3f166e6fc16",
   "metadata": {},
   "source": [
    "## 1. `if` Statement"
   ]
  },
  {
   "cell_type": "markdown",
   "id": "f043fc83-26ab-428b-9c32-8e010c0977e8",
   "metadata": {},
   "source": [
    "The `if` statement checks a condition and executes the code block if the condition is `True`."
   ]
  },
  {
   "cell_type": "code",
   "execution_count": null,
   "id": "7c0eace1-fa67-4c20-a7ae-d3c035c6bb38",
   "metadata": {},
   "outputs": [],
   "source": [
    "x = 10\n",
    "if x > 5:\n",
    "    print(\"x is greater than 5\")"
   ]
  },
  {
   "cell_type": "markdown",
   "id": "4132de42-1dff-471e-9338-c48895521b61",
   "metadata": {},
   "source": [
    "## 2. `if-else` Statement\n",
    "The `if-else` statement provides an alternative block of code if the condition is `False`.\n"
   ]
  },
  {
   "cell_type": "code",
   "execution_count": null,
   "id": "3daa4d4e-9d22-408c-9668-97e3f52a09b4",
   "metadata": {},
   "outputs": [],
   "source": [
    "x = 3\n",
    "if x > 5:\n",
    "    print(\"x is greater than 5\")\n",
    "else:\n",
    "    print(\"x is not greater than 5\")"
   ]
  },
  {
   "cell_type": "markdown",
   "id": "3d249d18-55a6-4c73-9bdf-bc49fbca361a",
   "metadata": {},
   "source": [
    "## 3. `if-elif-else` Statement\n",
    "If we have multiple conditions to check, we use `elif` (else if)."
   ]
  },
  {
   "cell_type": "code",
   "execution_count": null,
   "id": "0e081543-68a6-4688-aa2b-aea0c801808f",
   "metadata": {},
   "outputs": [],
   "source": [
    "x = 10\n",
    "if x < 0:\n",
    "    print(\"x is negative\")\n",
    "elif x == 0:\n",
    "    print(\"x is zero\")\n",
    "else:\n",
    "    print(\"x is positive\")"
   ]
  },
  {
   "cell_type": "markdown",
   "id": "46bf659d-7930-4765-bf04-5527a38afebc",
   "metadata": {},
   "source": [
    "## 4. Nested `if` Statements\n",
    "We can place one `if` statement inside another.\n"
   ]
  },
  {
   "cell_type": "code",
   "execution_count": null,
   "id": "2eb20e7d-fe28-4c04-91fb-03283fcf7590",
   "metadata": {},
   "outputs": [],
   "source": [
    "x = 10\n",
    "if x > 0:\n",
    "    if x % 2 == 0:\n",
    "        print(\"x is positive and even\")\n",
    "    else:\n",
    "        print(\"x is positive and odd\")"
   ]
  },
  {
   "cell_type": "markdown",
   "id": "f59f66df-2e28-4721-bae4-9c661e1f0145",
   "metadata": {},
   "source": [
    "# Practice Questions\n"
   ]
  },
  {
   "cell_type": "markdown",
   "id": "9fada6e2-3d63-4ad8-a714-119ffd4ca54c",
   "metadata": {},
   "source": [
    "## 1. Write a program that checks if a number entered by the user is even or odd."
   ]
  },
  {
   "cell_type": "code",
   "execution_count": null,
   "id": "ecda95ce-4281-4114-8303-ec93ac4e72f4",
   "metadata": {},
   "outputs": [],
   "source": []
  },
  {
   "cell_type": "markdown",
   "id": "a11c713d-753e-4563-bb27-e4ad532b9d56",
   "metadata": {},
   "source": [
    "## 2. Write a program that determines whether a person is eligible to vote (age 18 or above)."
   ]
  },
  {
   "cell_type": "code",
   "execution_count": null,
   "id": "d61c9e88-660f-4288-9975-f5414a1d0515",
   "metadata": {},
   "outputs": [],
   "source": []
  },
  {
   "cell_type": "markdown",
   "id": "0ab74c8a-34b7-4c67-b99d-5d80883899b8",
   "metadata": {},
   "source": [
    "## 3. Write a program that classifies a number as positive, negative, or zero."
   ]
  },
  {
   "cell_type": "code",
   "execution_count": null,
   "id": "8492b20b-af2b-43fa-bb0a-c4c087738cd5",
   "metadata": {},
   "outputs": [],
   "source": []
  },
  {
   "cell_type": "markdown",
   "id": "bafb70a1-0814-40bb-958e-cd9322a62641",
   "metadata": {},
   "source": [
    "## 5. Write a program that asks for a user's marks and prints:\n",
    "   - \"Excellent\" if marks are above 80\n",
    "   - \"Good\" if marks are between 50 and 80\n",
    "   - \"Needs Improvement\" otherwise"
   ]
  },
  {
   "cell_type": "code",
   "execution_count": null,
   "id": "8f66a21b-1572-4a2a-b79d-6ca0d4cf6dde",
   "metadata": {},
   "outputs": [],
   "source": []
  },
  {
   "cell_type": "markdown",
   "id": "5d89c56a-172d-4199-a695-f4ddbaffed90",
   "metadata": {},
   "source": [
    "## 6. Temperature Converter  \n",
    "Write a program that asks the user for the temperature in **Celsius** and classifies it as:  \n",
    "- \"Cold\" if below 10°C  \n",
    "- \"Moderate\" if between 10°C and 25°C  \n",
    "- \"Hot\" if above 25°C  "
   ]
  },
  {
   "cell_type": "code",
   "execution_count": null,
   "id": "cdc0de9a-5401-4888-a126-886861ca2c4d",
   "metadata": {},
   "outputs": [],
   "source": []
  },
  {
   "cell_type": "markdown",
   "id": "a52d2ce9-7f65-45fa-9ee5-904e85259a54",
   "metadata": {},
   "source": [
    "## 7. Bank Loan Eligibility  \n",
    "Ask the user for their **age** and **monthly income**. Use the following conditions:  \n",
    "- If the age is below 21, print \"Not eligible for a loan.\"  \n",
    "- If the income is less than ₹30,000, print \"Eligible for a small loan.\"  \n",
    "- If the income is ₹30,000 or more, print \"Eligible for a regular loan.\"  "
   ]
  },
  {
   "cell_type": "code",
   "execution_count": null,
   "id": "899f9659-6240-4b67-b766-4022ea16a520",
   "metadata": {},
   "outputs": [],
   "source": []
  },
  {
   "cell_type": "markdown",
   "id": "2d6aecf2-7cd7-426d-882b-807821b83661",
   "metadata": {},
   "source": [
    "## 8. E-commerce Discount System  \n",
    "Ask the user for the total **purchase amount** and apply the following discount rules:  \n",
    "- If amount is **above ₹5,000**, apply a **20% discount**  \n",
    "- If amount is **between ₹2,000 and ₹5,000**, apply a **10% discount**  \n",
    "- Otherwise, no discount  \n",
    "Print the final bill amount after applying the discount.  "
   ]
  },
  {
   "cell_type": "code",
   "execution_count": null,
   "id": "42d069e6-3a3f-4c3a-9c8d-84dcfb9edd69",
   "metadata": {},
   "outputs": [],
   "source": []
  },
  {
   "cell_type": "markdown",
   "id": "de16a336-3cf6-4d55-a503-911f5952c07d",
   "metadata": {},
   "source": [
    "## 9. Traffic Light System  \n",
    "Ask the user to enter a color (`\"red\"`, `\"yellow\"`, `\"green\"`) and display the corresponding action:  \n",
    "- `\"red\"` → \"Stop\"  \n",
    "- `\"yellow\"` → \"Get ready\"  \n",
    "- `\"green\"` → \"Go\"  \n",
    "- If the input is invalid, print \"Invalid color\"  "
   ]
  },
  {
   "cell_type": "code",
   "execution_count": null,
   "id": "07f6e390-073b-41d5-8d09-778733e4b496",
   "metadata": {},
   "outputs": [],
   "source": []
  },
  {
   "cell_type": "markdown",
   "id": "9c822d89-2fe4-47e1-8017-e1b3c310a2da",
   "metadata": {},
   "source": [
    "## 10. Movie Ticket Pricing  \n",
    "Ask the user for their **age** and determine the ticket price:  \n",
    "- **Below 5 years** → Free  \n",
    "- **5-18 years** → ₹100  \n",
    "- **19-60 years** → ₹200  \n",
    "- **Above 60 years** → ₹150  "
   ]
  },
  {
   "cell_type": "code",
   "execution_count": null,
   "id": "ca6a2946-03ef-4c76-9e95-6119a1f5d616",
   "metadata": {},
   "outputs": [],
   "source": []
  },
  {
   "cell_type": "markdown",
   "id": "b5b86341-17c1-4373-980e-d61f72aa602c",
   "metadata": {},
   "source": [
    "## 11. Username & Password Authentication  \n",
    "Create a simple **login system** that:  \n",
    "- Takes a **username** and **password** as input  \n",
    "- Checks if they match `\"admin\"` and `\"pass123\"`  \n",
    "- If correct, print `\"Login Successful!\"`  \n",
    "- Otherwise, print `\"Invalid credentials\"`  "
   ]
  },
  {
   "cell_type": "code",
   "execution_count": null,
   "id": "dbfb8238-c6aa-4e59-9305-5253b1ef9583",
   "metadata": {},
   "outputs": [],
   "source": []
  },
  {
   "cell_type": "markdown",
   "id": "9e296034-a854-490d-960b-d76026cb7c67",
   "metadata": {},
   "source": [
    "## 12. Exam Result Evaluator  \n",
    "Ask the user for their **marks** (0-100) and assign grades:  \n",
    "- **90+** → \"Excellent\"  \n",
    "- **75-89** → \"Good\"  \n",
    "- **50-74** → \"Average\"  \n",
    "- **Below 50** → \"Fail\"  "
   ]
  },
  {
   "cell_type": "code",
   "execution_count": null,
   "id": "eaee50b7-2908-4f69-8e8b-d40b0c5a0026",
   "metadata": {},
   "outputs": [],
   "source": []
  },
  {
   "cell_type": "code",
   "execution_count": null,
   "id": "4515da30-318e-43af-8f46-b96baafcd0a7",
   "metadata": {},
   "outputs": [],
   "source": []
  },
  {
   "cell_type": "markdown",
   "id": "7d8cb414-b09a-4e3f-8840-9e491024fd35",
   "metadata": {
    "jp-MarkdownHeadingCollapsed": true
   },
   "source": [
    "## 13. ATM Cash Withdrawal System  \n",
    "- Ask the user for their **PIN (e.g., 1234)**  \n",
    "- If the PIN is correct, ask for the withdrawal amount  \n",
    "- If they have enough balance, allow withdrawal and show remaining balance  \n",
    "- Otherwise, show an \"Insufficient Funds\" message  "
   ]
  },
  {
   "cell_type": "code",
   "execution_count": null,
   "id": "e3d60779-5a1e-4254-a44f-6c68882ab948",
   "metadata": {},
   "outputs": [],
   "source": []
  },
  {
   "cell_type": "markdown",
   "id": "04081490-25b3-48ef-8ce1-4d1bdfcc26f3",
   "metadata": {},
   "source": [
    "## 14. Triangle Type Checker  \n",
    "Ask the user to enter the three sides of a triangle and determine:  \n",
    "- **Equilateral** (all sides equal)  \n",
    "- **Isosceles** (two sides equal)  \n",
    "- **Scalene** (all sides different)  \n",
    "\n",
    "---"
   ]
  },
  {
   "cell_type": "markdown",
   "id": "f878764b-572c-431f-b594-d58bb957e2bf",
   "metadata": {},
   "source": [
    "# Bonus Challange"
   ]
  },
  {
   "cell_type": "markdown",
   "id": "d7252e9d-2282-4094-84eb-49e89bc1719f",
   "metadata": {},
   "source": [
    "# Rock, Paper, Scissors Game 🎮\n",
    "Write a Python program that lets the user play Rock, Paper, Scissors against the computer.\n",
    "\n",
    "**Requirements:**\n",
    "- Ask the user to enter their choice: \"rock\", \"paper\", or \"scissors\".\n",
    "- The computer should randomly select one of the three options.\n",
    "- Determine the winner based on the following rules:\n",
    "      <ul>\n",
    "          <li>Rock beats Scissors\n",
    "          <li>Scissors beats Paper\n",
    "          <li>Paper beats Rock\n",
    "If both choices are the same, it's a tie. <br>\n",
    "Display the choices and the result (win, lose, or tie).<br>\n",
    "Allow the user to play multiple rounds until they choose to quit. <br>\n",
    "\n",
    "**Bonus Challenge:**\n",
    "- Keep track of the score (user vs. computer).\n"
   ]
  }
 ],
 "metadata": {
  "kernelspec": {
   "display_name": "Python 3 (ipykernel)",
   "language": "python",
   "name": "python3"
  },
  "language_info": {
   "codemirror_mode": {
    "name": "ipython",
    "version": 3
   },
   "file_extension": ".py",
   "mimetype": "text/x-python",
   "name": "python",
   "nbconvert_exporter": "python",
   "pygments_lexer": "ipython3",
   "version": "3.13.2"
  }
 },
 "nbformat": 4,
 "nbformat_minor": 5
}
