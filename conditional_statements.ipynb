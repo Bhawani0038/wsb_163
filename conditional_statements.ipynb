  {
   "cell_type": "code",
   "execution_count": null,
   "id": "2eb20e7d-fe28-4c04-91fb-03283fcf7590",
   "metadata": {},
   "outputs": [],
   "source": [
    "x = 10\n",
    "if x > 0:\n",
    "    if x % 2 == 0:\n",
    "        print(\"x is positive and even\")\n",
    "    else:\n",
    "        print(\"x is positive and odd\")"
   ]
  },
  {
   "cell_type": "markdown",
   "id": "9074801b-1cbf-4650-b029-687e8f96929c",
   "metadata": {},
   "source": [
    "# Practice"
   ]
  },
  {
   "cell_type": "markdown",
   "id": "8c832ef3-89bc-44ae-a9c0-efa20f0d2140",
   "metadata": {},
   "source": [
    "## Q1 Checking Eligibility for Voting 🗳️\n",
    "\n",
    "Scenario: A person can vote only if they are 18 years or older and a citizen of the country."
   ]
  },
  {
   "cell_type": "code",
   "execution_count": null,
   "id": "6c411bc3-f29c-4496-86b8-0b33803e9565",
   "metadata": {},
   "outputs": [],
   "source": [
    "age = int(input(\"Enter your age: \"))\n",
    "is_citizen = input(\"Are you a citizen? (yes/no): \").lower() == \"yes\"\n",
    "\n",
    "if _____________________:\n",
    "    print(\"You are eligible to vote! ✅\")\n",
    "else:\n",
    "    print(\"You are not eligible to vote. ❌\")"
   ]
  },
  {
   "cell_type": "markdown",
   "id": "a69f916d-d6e4-4395-900b-91c49c6420d3",
   "metadata": {},
   "source": [
    "## Q2 User Login System 🔑\n",
    "\n",
    "Scenario: A user can log in if they enter the correct username and password.\n",
    "<br>username= admin , password = secure123"
   ]
  },
  {
   "cell_type": "code",
   "execution_count": null,
   "id": "03ef0755-f241-4132-bef7-37f0e4accf97",
   "metadata": {},
   "outputs": [],
   "source": [
    "username = input(\"Enter username: \")\n",
    "password = input(\"Enter password: \")\n",
    "\n",
    "if _____________________:\n",
    "    print(\"Login successful! ✅\")\n",
    "else:\n",
    "    print(\"Invalid credentials. ❌\")"
   ]
  },
  {
   "cell_type": "markdown",
   "id": "c119474c-5399-45ae-be1e-73404299180b",
   "metadata": {},
   "source": [
    "## Q3 Checking If a Student Has Passed 🎓\n",
    "\n",
    "Scenario: A student passes if they score 40 or more in both math and science."
   ]
  },
  {
   "cell_type": "code",
   "execution_count": null,
   "id": "e3a8e0da-11ba-42d4-8f4e-6fc1e11230eb",
   "metadata": {
    "jp-MarkdownHeadingCollapsed": true
   },
   "outputs": [],
   "source": [
    "math_score = int(input(\"Enter Math score: \"))\n",
    "science_score = int(input(\"Enter Science score: \"))\n",
    "\n",
    "if ____________________________:\n",
    "    print(\"Congratulations! You have passed. 🎉\")\n",
    "else:\n",
    "    print(\"Sorry, you failed. ❌\")"
   ]
  },
  {
   "cell_type": "markdown",
   "id": "f72b70dd-9220-44a7-8b6e-6f6a377e370c",
   "metadata": {},
   "source": [
    "## Q4 Secure Door Access System 🚪\n",
    "\n",
    "Scenario: The door unlocks only if the correct password is entered AND the time is within working hours (9 AM - 6 PM)."
   ]
  },
  {
   "cell_type": "code",
   "execution_count": null,
   "id": "ef256d3f-d8c9-434f-9aa6-ad053da9fa72",
   "metadata": {},
   "outputs": [],
   "source": [
    "password = input(\"Enter the password: \")\n",
    "time = int(input(\"Enter the current hour (24-hour format): \"))\n",
    "\n",
    "if _______________________________:\n",
    "    print(\"Door Unlocked! ✅\")\n",
    "else:\n",
    "    print(\"Access Denied! ❌\")"
   ]
  },
  {
   "cell_type": "markdown",
   "id": "7aaba11e-2e5c-4537-bc04-b2ae049be3c6",
   "metadata": {},
   "source": [
    "## Q5 Discount on Shopping 🛍️\n",
    "\n",
    "Scenario: A customer gets a discount if they are a loyalty cardholder OR if their total purchase is above $200."
   ]
  },
  {
   "cell_type": "code",
   "execution_count": null,
   "id": "4458e601-5181-48d5-8c11-d8a892f53c83",
   "metadata": {},
   "outputs": [],
   "source": [
    "loyalty_card = input(\"Do you have a loyalty card? (yes/no): \").lower() == \"yes\"\n",
    "total_purchase = float(input(\"Enter your total purchase amount: $\"))\n",
    "\n",
    "if loyalty_card or total_purchase > 200:\n",
    "    #enter your code here\n",
    "    \n",
    "else:\n",
    "    #enter your code here"
   ]
  },
  {
   "cell_type": "markdown",
   "id": "c383d305-4f95-45d2-bc75-7f59ac28f7fe",
   "metadata": {},
   "source": [
    "## Q6 Smart Door Lock System 🚪\n",
    "\n",
    "Scenario: The door unlocks if the correct password OR fingerprint is provided."
   ]
  },
  {
   "cell_type": "code",
   "execution_count": null,
   "id": "d74dee5a-1f4a-4b52-80ae-1f492bba8597",
   "metadata": {},
   "outputs": [],
   "source": [
    "password = input(\"Enter password: \")\n",
    "fingerprint_scanned = input(\"Fingerprint scanned successfully? (yes/no): \").lower() == \"yes\"\n",
    "\n",
    "if password == \"secure123\" or fingerprint_scanned:\n",
    "    #enter your code here\n",
    "else:\n",
    "    #enter your code here"
   ]
  },
  {
   "cell_type": "markdown",
   "id": "e509a954-e034-46ff-abf7-068d49e05e8c",
   "metadata": {},
   "source": [
    "# Identify Errors"
   ]
  },
  {
   "cell_type": "markdown",
   "id": "38a9dd65-4a9f-46d2-a1dc-a60ae6e4b034",
   "metadata": {},
   "source": [
    "## Q1 Unlocking a Mobile Phone 📱\n",
    "\n",
    "Scenario: A phone unlocks if the user enters the correct PIN OR uses Face ID."
   ]
  },
  {
   "cell_type": "code",
   "execution_count": null,
   "id": "ab5a3fbf-849c-4c05-ad65-020e04f0fea2",
   "metadata": {},
   "outputs": [],
   "source": [
    "pin = input(\"Enter PIN: \")\n",
    "face_id = input(\"Face ID recognized? (yes/no): \").lower() == \"yes\"\n",
    "\n",
    "if pin == \"1234\" and face_id:\n",
    "    print(\"Phone Unlocked! ✅\")\n",
    "else:\n",
    "    print(\"Access Denied! ❌\")"
   ]
  },
  {
   "cell_type": "markdown",
   "id": "c1aee637-ead9-433e-a805-4d201b73c881",
   "metadata": {},
   "source": [
    "## Q2 Smart Door Lock System 🚪\n",
    "\n",
    "Scenario: The door unlocks if the correct password OR fingerprint is provided."
   ]
  },
  {
   "cell_type": "code",
   "execution_count": null,
   "id": "a8cf0b4f-e3ab-4374-83ef-6c0a425a47ce",
   "metadata": {},
   "outputs": [],
   "source": [
    "password = input(\"Enter password: \")\n",
    "fingerprint_scanned = input(\"Fingerprint scanned successfully? (yes/no): \").lower() == \"yes\"\n",
    "\n",
    "if password == \"secure123\" or fingerprint_scanned\n",
    "    print(\"door unlocked\")\n",
    "else:\n",
    "    print(\"password & fingerprint not mathced\")"
   ]
  },
  {
   "cell_type": "markdown",
   "id": "fd202503-dc61-4a92-8b1d-f92ca585678a",
   "metadata": {},
   "source": [
    "## Q3 Discount on Shopping 🛍️\n",
    "\n",
    "Scenario: A customer gets a discount if they are a loyalty cardholder OR if their total purchase is above $200."
   ]
  },
  {
   "cell_type": "code",
   "execution_count": null,
   "id": "446353eb-0056-412e-8d60-2d6d1fde50ac",
   "metadata": {},
   "outputs": [],
   "source": [
    "loyalty_card = input(\"Do you have a loyalty card? (yes/no): \").lower() == \"yes\"\n",
    "total_purchase = float(input(\"Enter your total purchase amount: $\"))\n",
    "\n",
    "if loyalty_card or total_purchase > 200:\n",
    "print(\"you get 200$ discount\")\n",
    "    \n",
    "else:\n",
    "    print(\"you doesn't got any discount\")"
   ]
  },
  {
   "cell_type": "markdown",
   "id": "7a95693e-c192-4a37-b7c6-863c8fbc3466",
   "metadata": {},
   "source": [
    "## Q4 Checking If a Student Has Passed 🎓\n",
    "\n",
    "Scenario: A student passes if they score 40 or more in both math and science."
   ]
  },
  {
   "cell_type": "code",
   "execution_count": null,
   "id": "cf721553-d04c-4441-80f1-525000fa9f5d",
   "metadata": {
    "jp-MarkdownHeadingCollapsed": true
   },
   "outputs": [],
   "source": [
    "math_score = int(input(\"Enter Math score: \"))\n",
    "science_score = int(input(\"Enter Science score: \"))\n",
    "\n",
    "if math_score >= 40 and science_score >= 40:\n",
    "    print(\"Congratulations! You have passed. 🎉\")\n",
    "else:\n",
    "print(\"Sorry, you failed. ❌\")"
   ]
  },
  {
   "cell_type": "markdown",
   "id": "c2c3442d-b2b8-4bea-8c3a-eb97af595abd",
   "metadata": {},
   "source": [
    "## Q5 Checking If a Student Has Passed 🎓\n",
    "\n",
    "Scenario: A student passes if they score 40 or more in both math and science."
   ]
  },
  {
   "cell_type": "code",
   "execution_count": null,
   "id": "0869260d-a128-4d14-ba90-518244f84945",
   "metadata": {
    "jp-MarkdownHeadingCollapsed": true
   },
   "outputs": [],
   "source": [
    "math_score = int(input(\"Enter Math score: \"))\n",
    "science_score = int(input(\"Enter Science score: \"))\n",
    "\n",
    "if math_score >= 40, science_score >= 40:\n",
    "    print(\"Congratulations! You have passed. 🎉\")\n",
    "else:\n",
    "    print(\"Sorry, you failed. ❌\")"
   ]
  },
  {
   "cell_type": "markdown",
   "id": "bddf2957-91ad-4d89-9e1e-7a6437cacd90",
   "metadata": {},
   "source": [
    "## Q5 User Login System 🔑\n",
    "\n",
    "Scenario: A user can log in if they enter the correct username and password.\n",
    "<br>username= admin , password = secure123"
   ]
  },
  {
   "cell_type": "code",
   "execution_count": null,
   "id": "d753166c-6212-40e2-bc1e-73ac996e5b72",
   "metadata": {},
   "outputs": [],
   "source": [
    "username = input(\"Enter username: \")\n",
    "password = input(\"Enter password: \")\n",
    "\n",
    "if username= admin and password = secure123:\n",
    "    print(\"Login successful! ✅\")\n",
    "else:\n",
    "    print(\"Invalid credentials. ❌\")"
   ]
  },
  {
   "cell_type": "markdown",
   "id": "5d7fc643-9784-4ee8-ad5a-65175807a988",
   "metadata": {},
   "source": [
    "## Q6 Checking Eligibility for Voting 🗳️\n",
    "\n",
    "Scenario: A person can vote only if they are 18 years or older and a citizen of the country."
   ]
  },
  {
   "cell_type": "code",
   "execution_count": null,
   "id": "3ce125c0-5c75-4e50-acf2-0a8b9ead7750",
   "metadata": {},
   "outputs": [],
   "source": [
    "age = int(input(\"Enter your age: \"))\n",
    "is_citizen = input(\"Are you a citizen? (yes/no): \").lower() == \"yes\"\n",
    "\n",
    "if age >= 18:\n",
    "    print(\"You are eligible to vote! ✅\")\n",
    "else age < 18:\n",
    "    print(\"You are not eligible to vote. ❌\")"
   ]
  },
  {
   "cell_type": "markdown",
   "id": "7872c0c8-76f2-40aa-af65-a804c28c9099",
   "metadata": {},
   "source": [
    "## Q6 Write a program that asks for a user's marks and prints:\n",
    "   - \"Excellent\" if marks are above 80\n",
    "   - \"Good\" if marks are between 50 and 80\n",
    "   - \"Needs Improvement\" otherwise"
   ]
  },
  {
   "cell_type": "code",
   "execution_count": null,
   "id": "86ab0065-1ed9-43cb-86f5-13d7d31677d7",
   "metadata": {},
   "outputs": [],
   "source": [
    "marks = int(input(\"marks:\"))\n",
    "if marks > 80:\n",
    "    print(\"Excellent\")\n",
    "\n",
    "if marks > 50:\n",
    "    print(\"good\")\n",
    "\n",
    "else:\n",
    "    print(\"need improvement\")"
   ]
  },
  {
   "cell_type": "markdown",
   "id": "f59f66df-2e28-4721-bae4-9c661e1f0145",
   "metadata": {},
   "source": [
    "# Practice Questions\n"
   ]
  },
  {
   "cell_type": "markdown",
   "id": "9fada6e2-3d63-4ad8-a714-119ffd4ca54c",
   "metadata": {},
   "source": [
    "## 1. Write a program that checks if a number entered by the user is even or odd."
   ]
  },
  {
   "cell_type": "code",
   "execution_count": null,
   "id": "ecda95ce-4281-4114-8303-ec93ac4e72f4",
   "metadata": {},
   "outputs": [],
   "source": []
  },
  {
   "cell_type": "markdown",
   "id": "a11c713d-753e-4563-bb27-e4ad532b9d56",
   "metadata": {},
   "source": [
    "## 2. Write a program that determines whether a person is eligible to vote (age 18 or above)."
   ]
  },
  {
   "cell_type": "code",
   "execution_count": null,
   "id": "d61c9e88-660f-4288-9975-f5414a1d0515",
   "metadata": {},
   "outputs": [],
   "source": []
  },
  {
   "cell_type": "markdown",
   "id": "0ab74c8a-34b7-4c67-b99d-5d80883899b8",
   "metadata": {},
   "source": [
    "## 3. Write a program that classifies a number as positive, negative, or zero."
   ]
  },
  {
   "cell_type": "code",
   "execution_count": null,
   "id": "8492b20b-af2b-43fa-bb0a-c4c087738cd5",
   "metadata": {},
   "outputs": [],
   "source": []
  },
  {
   "cell_type": "markdown",
   "id": "bafb70a1-0814-40bb-958e-cd9322a62641",
   "metadata": {},
   "source": [
    "## 5. Write a program that asks for a user's marks and prints:\n",
    "   - \"Excellent\" if marks are above 80\n",
    "   - \"Good\" if marks are between 50 and 80\n",
    "   - \"Needs Improvement\" otherwise"
   ]
  },
  {
   "cell_type": "code",
   "execution_count": null,
   "id": "8f66a21b-1572-4a2a-b79d-6ca0d4cf6dde",
   "metadata": {},
   "outputs": [],
   "source": []
  },
  {
   "cell_type": "markdown",
   "id": "5d89c56a-172d-4199-a695-f4ddbaffed90",
   "metadata": {},
   "source": [
    "## 6. Temperature Converter  \n",
    "Write a program that asks the user for the temperature in **Celsius** and classifies it as:  \n",
    "- \"Cold\" if below 10°C  \n",
    "- \"Moderate\" if between 10°C and 25°C  \n",
    "- \"Hot\" if above 25°C  "
   ]
  },
  {
   "cell_type": "code",
   "execution_count": null,
   "id": "cdc0de9a-5401-4888-a126-886861ca2c4d",
   "metadata": {},
   "outputs": [],
   "source": []
  },
  {
   "cell_type": "markdown",
   "id": "a52d2ce9-7f65-45fa-9ee5-904e85259a54",
   "metadata": {},
   "source": [
    "## 7. Bank Loan Eligibility  \n",
    "Ask the user for their **age** and **monthly income**. Use the following conditions:  \n",
    "- If the age is below 21, print \"Not eligible for a loan.\"  \n",
    "- If the income is less than ₹30,000, print \"Eligible for a small loan.\"  \n",
    "- If the income is ₹30,000 or more, print \"Eligible for a regular loan.\"  "
   ]
  },
  {
   "cell_type": "code",
   "execution_count": null,
   "id": "899f9659-6240-4b67-b766-4022ea16a520",
   "metadata": {},
   "outputs": [],
   "source": []
  },
  {
   "cell_type": "markdown",
   "id": "2d6aecf2-7cd7-426d-882b-807821b83661",
   "metadata": {},
   "source": [
    "## 8. E-commerce Discount System  \n",
    "Ask the user for the total **purchase amount** and apply the following discount rules:  \n",
    "- If amount is **above ₹5,000**, apply a **20% discount**  \n",
    "- If amount is **between ₹2,000 and ₹5,000**, apply a **10% discount**  \n",
    "- Otherwise, no discount  \n",
    "Print the final bill amount after applying the discount.  "
   ]
  },
  {
   "cell_type": "code",
   "execution_count": null,
   "id": "42d069e6-3a3f-4c3a-9c8d-84dcfb9edd69",
   "metadata": {},
   "outputs": [],
   "source": []
  },
  {
   "cell_type": "markdown",
   "id": "de16a336-3cf6-4d55-a503-911f5952c07d",
   "metadata": {},
   "source": [
    "## 9. Traffic Light System  \n",
    "Ask the user to enter a color (`\"red\"`, `\"yellow\"`, `\"green\"`) and display the corresponding action:  \n",
    "- `\"red\"` → \"Stop\"  \n",
    "- `\"yellow\"` → \"Get ready\"  \n",
    "- `\"green\"` → \"Go\"  \n",
    "- If the input is invalid, print \"Invalid color\"  "
   ]
  },
  {
   "cell_type": "code",
   "execution_count": null,
   "id": "07f6e390-073b-41d5-8d09-778733e4b496",
   "metadata": {},
   "outputs": [],
   "source": []
  },
  {
   "cell_type": "markdown",
   "id": "9c822d89-2fe4-47e1-8017-e1b3c310a2da",
   "metadata": {},
   "source": [
    "## 10. Movie Ticket Pricing  \n",
    "Ask the user for their **age** and determine the ticket price:  \n",
    "- **Below 5 years** → Free  \n",
    "- **5-18 years** → ₹100  \n",
    "- **19-60 years** → ₹200  \n",
    "- **Above 60 years** → ₹150  "
   ]
  },
  {
   "cell_type": "code",
   "execution_count": null,
   "id": "ca6a2946-03ef-4c76-9e95-6119a1f5d616",
   "metadata": {},
   "outputs": [],
   "source": []
  },
  {
   "cell_type": "markdown",
   "id": "b5b86341-17c1-4373-980e-d61f72aa602c",
   "metadata": {},
   "source": [
    "## 11. Username & Password Authentication  \n",
    "Create a simple **login system** that:  \n",
    "- Takes a **username** and **password** as input  \n",
    "- Checks if they match `\"admin\"` and `\"pass123\"`  \n",
    "- If correct, print `\"Login Successful!\"`  \n",
    "- Otherwise, print `\"Invalid credentials\"`  "
   ]
  },
  {
   "cell_type": "code",
   "execution_count": null,
   "id": "dbfb8238-c6aa-4e59-9305-5253b1ef9583",
   "metadata": {},
   "outputs": [],
   "source": []
  },
  {
   "cell_type": "markdown",
   "id": "9e296034-a854-490d-960b-d76026cb7c67",
   "metadata": {},
   "source": [
    "## 12. Exam Result Evaluator  \n",
    "Ask the user for their **marks** (0-100) and assign grades:  \n",
    "- **90+** → \"Excellent\"  \n",
    "- **75-89** → \"Good\"  \n",
    "- **50-74** → \"Average\"  \n",
    "- **Below 50** → \"Fail\"  "
   ]
  },
  {
   "cell_type": "code",
   "execution_count": null,
   "id": "eaee50b7-2908-4f69-8e8b-d40b0c5a0026",
   "metadata": {},
   "outputs": [],
   "source": []
  },
  {
   "cell_type": "code",
   "execution_count": null,
   "id": "4515da30-318e-43af-8f46-b96baafcd0a7",
   "metadata": {},
   "outputs": [],
   "source": []
  },
  {
   "cell_type": "markdown",
   "id": "7d8cb414-b09a-4e3f-8840-9e491024fd35",
   "metadata": {
    "jp-MarkdownHeadingCollapsed": true
   },
   "source": [
    "## 13. ATM Cash Withdrawal System  \n",
    "- Ask the user for their **PIN (e.g., 1234)**  \n",
    "- If the PIN is correct, ask for the withdrawal amount  \n",
    "- If they have enough balance, allow withdrawal and show remaining balance  \n",
    "- Otherwise, show an \"Insufficient Funds\" message  "
   ]
  },
  {
   "cell_type": "code",
   "execution_count": null,
   "id": "e3d60779-5a1e-4254-a44f-6c68882ab948",
   "metadata": {},
   "outputs": [],
   "source": []
  },
  {
   "cell_type": "markdown",
   "id": "04081490-25b3-48ef-8ce1-4d1bdfcc26f3",
   "metadata": {},
   "source": [
    "## 14. Triangle Type Checker  \n",
    "Ask the user to enter the three sides of a triangle and determine:  \n",
    "- **Equilateral** (all sides equal)  \n",
    "- **Isosceles** (two sides equal)  \n",
    "- **Scalene** (all sides different)  \n",
    "\n",
    "---"
   ]
  },
  {
   "cell_type": "markdown",
   "id": "f878764b-572c-431f-b594-d58bb957e2bf",
   "metadata": {},
   "source": [
    "# Bonus Challange"
   ]
  },
  {
   "cell_type": "markdown",
   "id": "d7252e9d-2282-4094-84eb-49e89bc1719f",
   "metadata": {},
   "source": [
    "# Rock, Paper, Scissors Game 🎮\n",
    "Write a Python program that lets the user play Rock, Paper, Scissors against the computer.\n",
    "\n",
    "**Requirements:**\n",
    "- Ask the user to enter their choice: \"rock\", \"paper\", or \"scissors\".\n",
    "- The computer should randomly select one of the three options.\n",
    "- Determine the winner based on the following rules:\n",
    "      <ul>\n",
    "          <li>Rock beats Scissors\n",
    "          <li>Scissors beats Paper\n",
    "          <li>Paper beats Rock\n",
    "If both choices are the same, it's a tie. <br>\n",
    "Display the choices and the result (win, lose, or tie).<br>\n",
    "Allow the user to play multiple rounds until they choose to quit. <br>\n",
    "\n",
    "**Bonus Challenge:**\n",
    "- Keep track of the score (user vs. computer).\n"
   ]
  }
 ],
 "metadata": {
  "kernelspec": {
   "display_name": "Python 3 (ipykernel)",
   "language": "python",
   "name": "python3"
  },
  "language_info": {
   "codemirror_mode": {
    "name": "ipython",
    "version": 3
   },
   "file_extension": ".py",
   "mimetype": "text/x-python",
   "name": "python",
   "nbconvert_exporter": "python",
   "pygments_lexer": "ipython3",
   "version": "3.13.2"
  }
 },
 "nbformat": 4,
 "nbformat_minor": 5
}
