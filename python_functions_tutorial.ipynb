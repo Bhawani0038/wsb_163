{
 "cells": [
  {
   "cell_type": "markdown",
   "id": "f825a104",
   "metadata": {
    "vscode": {
     "languageId": "markdown"
    }
   },
   "source": [
    "# Functions in Python\n"
   ]
  },
  {
   "cell_type": "markdown",
   "id": "c0063910",
   "metadata": {
    "vscode": {
     "languageId": "markdown"
    }
   },
   "source": [
    "\n",
    "## What is a Function?\n"
   ]
  },
  {
   "cell_type": "markdown",
   "id": "dfdf4758",
   "metadata": {
    "vscode": {
     "languageId": "markdown"
    }
   },
   "source": [
    "A function in Python is a reusable block of code that performs a specific task. Functions help in organizing code, improving readability, and reducing redundancy.\n",
    "\n"
   ]
  },
  {
   "cell_type": "markdown",
   "id": "64c6c268",
   "metadata": {
    "vscode": {
     "languageId": "markdown"
    }
   },
   "source": [
    "## Defining a Function\n"
   ]
  },
  {
   "cell_type": "markdown",
   "id": "190f4ef3",
   "metadata": {
    "vscode": {
     "languageId": "markdown"
    }
   },
   "source": [
    "Functions in Python are defined using the `def` keyword, followed by the function name and parentheses `()`. The body of the function is indented.\n",
    "\n"
   ]
  },
  {
   "cell_type": "markdown",
   "id": "c9822133",
   "metadata": {},
   "source": [
    "### Syntax:\n"
   ]
  },
  {
   "cell_type": "code",
   "execution_count": null,
   "id": "fe037c47",
   "metadata": {
    "vscode": {
     "languageId": "markdown"
    }
   },
   "outputs": [],
   "source": [
    "def function_name():\n",
    "    # Function body\n",
    "    # Write your code here\n",
    "    pass\n"
   ]
  },
  {
   "cell_type": "code",
   "execution_count": null,
   "id": "005f5cf5",
   "metadata": {
    "vscode": {
     "languageId": "markdown"
    }
   },
   "outputs": [
    {
     "name": "stdout",
     "output_type": "stream",
     "text": [
      "Hello\n"
     ]
    }
   ],
   "source": [
    "\n",
    "def greet():\n",
    "    print(\"Hello\")\n",
    "greet()"
   ]
  },
  {
   "cell_type": "code",
   "execution_count": null,
   "id": "711bf41f",
   "metadata": {
    "vscode": {
     "languageId": "markdown"
    }
   },
   "outputs": [
    {
     "name": "stdout",
     "output_type": "stream",
     "text": [
      "15\n",
      "5\n",
      "50\n",
      "2.0\n",
      "Error: Division by zero\n"
     ]
    }
   ],
   "source": [
    "def calculator(num1, num2, operation):   #parameters   #num = 10, #num = 5, #operator = \"+\"\n",
    "    if operation == '+': \n",
    "        return num1 + num2\n",
    "    elif operation == '-':\n",
    "        return num1 - num2\n",
    "    elif operation == '*':\n",
    "        return num1 * num2\n",
    "    elif operation == '/':\n",
    "        if num2 != 0:\n",
    "            return num1 / num2\n",
    "        else:\n",
    "            return \"Error: Division by zero\"\n",
    "    else:\n",
    "        return \"Invalid operation\"\n",
    "\n",
    "# Let's test the calculator\n",
    "print(calculator(10, 5, '+'))  # Addition: 15   #arguments\n",
    "print(calculator(10, 5, '-'))  # Subtraction: 5\n",
    "print(calculator(10, 5, '*'))  # Multiplication: 50\n",
    "print(calculator(10, 5, '/'))  # Division: 2.0\n",
    "print(calculator(10, 0, '/'))  # Division by zero error\n",
    "\n"
   ]
  },
  {
   "cell_type": "code",
   "execution_count": 10,
   "id": "1b3374eb",
   "metadata": {
    "vscode": {
     "languageId": "markdown"
    }
   },
   "outputs": [
    {
     "name": "stdout",
     "output_type": "stream",
     "text": [
      "8500 Rs.\n",
      "17000 Rs.\n",
      "21250 Rs.\n",
      "25500 Rs.\n",
      "42500 Rs.\n"
     ]
    }
   ],
   "source": [
    "def dollar_to_rupees(dollar):\n",
    "    return str(dollar * 85) + \" Rs.\"\n",
    "\n",
    "\n",
    "dollars = [100, 200, 250, 300, 500]\n",
    "\n",
    "for elem in dollars:\n",
    "    print(dollar_to_rupees(elem))"
   ]
  },
  {
   "cell_type": "code",
   "execution_count": null,
   "id": "bb276ebf",
   "metadata": {
    "vscode": {
     "languageId": "markdown"
    }
   },
   "outputs": [],
   "source": [
    "def km_to_meters(kilometers):\n",
    "    meters = kilometers * 1000\n",
    "    return meters\n",
    "\n",
    "# Let's test the conversion function\n",
    "print(km_to_meters(5))  # Converts 5 km to 5000 meters\n",
    "print(km_to_meters(2.5))  # Converts 2.5 km to 2500 meters\n"
   ]
  },
  {
   "cell_type": "code",
   "execution_count": 4,
   "id": "94c8c632",
   "metadata": {
    "vscode": {
     "languageId": "markdown"
    }
   },
   "outputs": [
    {
     "name": "stdout",
     "output_type": "stream",
     "text": [
      "11.0231\n",
      "5.51155\n"
     ]
    }
   ],
   "source": [
    "def kg_to_pounds(kilograms):\n",
    "    pounds = kilograms * 2.20462\n",
    "    return pounds\n",
    "\n",
    "# Let's test the conversion function\n",
    "print(kg_to_pounds(5))  # Converts 5 kg to 11.0231 pounds\n",
    "print(kg_to_pounds(2.5))  # Converts 2.5 kg to 5.51155 pounds\n"
   ]
  },
  {
   "cell_type": "code",
   "execution_count": 5,
   "id": "849d3221",
   "metadata": {
    "vscode": {
     "languageId": "markdown"
    }
   },
   "outputs": [
    {
     "name": "stdout",
     "output_type": "stream",
     "text": [
      "32.0\n",
      "212.0\n",
      "98.6\n"
     ]
    }
   ],
   "source": [
    "def celsius_to_fahrenheit(celsius):\n",
    "    fahrenheit = (celsius * 9/5) + 32\n",
    "    return fahrenheit\n",
    "\n",
    "# Let's test the conversion function\n",
    "print(celsius_to_fahrenheit(0))    # Converts 0°C to 32°F\n",
    "print(celsius_to_fahrenheit(100))  # Converts 100°C to 212°F\n",
    "print(celsius_to_fahrenheit(37))   # Converts body temperature 37°C to 98.6°F\n"
   ]
  },
  {
   "cell_type": "code",
   "execution_count": 3,
   "id": "3aafc80e",
   "metadata": {
    "vscode": {
     "languageId": "markdown"
    }
   },
   "outputs": [
    {
     "name": "stdout",
     "output_type": "stream",
     "text": [
      "p_id =  p1\n",
      "p_name =  chair\n",
      "price =  2000\n",
      "expiree =  30 July 2025\n",
      "mfg =  na\n"
     ]
    }
   ],
   "source": [
    "def product_info(p_id, p_name, price, expiree = \"na\", mfg  = \"na\"):\n",
    "    print(\"p_id = \", p_id)\n",
    "    print(\"p_name = \", p_name)\n",
    "    print(\"price = \", price)\n",
    "    print(\"expiree = \", expiree)\n",
    "    print(\"mfg = \", mfg)\n",
    "\n",
    "product_info('p1', 'chair', 2000, \"30 July 2025\")"
   ]
  },
  {
   "cell_type": "code",
   "execution_count": null,
   "id": "843ac099",
   "metadata": {
    "vscode": {
     "languageId": "markdown"
    }
   },
   "outputs": [],
   "source": [
    "prod"
   ]
  },
  {
   "cell_type": "markdown",
   "id": "35e59c1e",
   "metadata": {},
   "source": [
    "# Types of Function Arguments in Python\n",
    "\n",
    "1. **Required/Positional Arguments**\n",
    "   - These are the mandatory arguments that must be passed to a function in the correct order\n",
    "   - Example: `def add(x, y)` - both x and y are required arguments\n",
    "\n",
    "2. **Keyword Arguments**\n",
    "   - Arguments passed with parameter names, allowing them to be passed in any order\n",
    "   - Example: `function(name=\"John\", age=25)`\n",
    "\n",
    "3. **Default Arguments** \n",
    "   - Arguments with predefined default values that are used if no value is passed\n",
    "   - Example: `def greet(name=\"User\")` - name has a default value\n",
    "\n",
    "4. **Variable-Length Arguments**\n",
    "   - *args: Allows passing multiple positional arguments as a tuple\n",
    "   - **kwargs: Allows passing multiple keyword arguments as a dictionary\n",
    "   - Example: `def func(*args, **kwargs)`\n"
   ]
  },
  {
   "cell_type": "markdown",
   "id": "a287f08d",
   "metadata": {},
   "source": [
    "Example of a Required Positional Argument:\n",
    "\n"
   ]
  },
  {
   "cell_type": "code",
   "execution_count": null,
   "id": "dda84698",
   "metadata": {},
   "outputs": [],
   "source": [
    "def greet_person(name):    # 'name' is a required argument\n",
    "    print(f\"Hello, {name}!\")\n",
    "\n",
    "# This will work:\n",
    "greet_person(\"Raman\")   \n",
    "\n",
    "# This will raise an error:\n",
    "# greet_person()    # TypeError: greet_person() missing 1 required positional argument: 'name'\n"
   ]
  },
  {
   "cell_type": "code",
   "execution_count": 7,
   "id": "069123c4",
   "metadata": {},
   "outputs": [
    {
     "name": "stdout",
     "output_type": "stream",
     "text": [
      "{'name': 'Priya', 'age': 25, 'occupation': 'Student', 'city': 'Unknown'}\n",
      "{'name': 'Rahul', 'age': 30, 'occupation': 'Student', 'city': 'New York'}\n",
      "{'name': 'Arjun', 'age': 35, 'occupation': 'Engineer', 'city': 'San Francisco'}\n"
     ]
    }
   ],
   "source": [
    "def create_profile(name, age=25, occupation=\"Student\", city=\"Unknown\"):\n",
    "    \"\"\"Creates a user profile with default values for some parameters.\"\"\"\n",
    "    profile = {\n",
    "        \"name\": name,\n",
    "        \"age\": age,\n",
    "        \"occupation\": occupation,\n",
    "        \"city\": city\n",
    "    }\n",
    "    return profile\n",
    "\n",
    "# Using only the required argument\n",
    "print(create_profile(\"Priya\"))\n",
    "\n",
    "# Overriding some default values\n",
    "print(create_profile(\"Rahul\", age=30, city=\"New York\"))\n",
    "\n",
    "# Overriding all default values\n",
    "print(create_profile(\"Arjun\", 35, \"Engineer\", \"San Francisco\"))\n"
   ]
  },
  {
   "cell_type": "code",
   "execution_count": null,
   "id": "09ba5439",
   "metadata": {},
   "outputs": [],
   "source": [
    "def sum_all_numbers(*args):\n",
    "    \"\"\"Demonstrates *args by summing any number of arguments passed.\"\"\"\n",
    "    total = 0\n",
    "    for num in args:\n",
    "        total += num\n",
    "    return total\n",
    "\n",
    "# Using *args with different numbers of arguments\n",
    "print(sum_all_numbers(1, 2))                    # Passing 2 numbers\n",
    "print(sum_all_numbers(1, 2, 3, 4, 5))          # Passing 5 numbers\n",
    "print(sum_all_numbers(10))                      # Passing 1 number\n",
    "print(sum_all_numbers())                        # Passing no numbers\n"
   ]
  },
  {
   "cell_type": "code",
   "execution_count": null,
   "id": "1a845acd",
   "metadata": {},
   "outputs": [],
   "source": [
    "def print_user_info(**kwargs):\n",
    "    \"\"\"Demonstrates **kwargs by printing user information.\"\"\"\n",
    "    print(\"User Information:\")\n",
    "    for key, value in kwargs.items():\n",
    "        print(f\"{key}: {value}\")\n",
    "\n",
    "# Using **kwargs with different sets of keyword arguments\n",
    "print_user_info(name=\"Priya\", age=25)\n",
    "print(\"\\n\")  # Add a blank line between examples\n",
    "\n",
    "print_user_info(name=\"Rahul\", age=30, city=\"Mumbai\", occupation=\"Engineer\")\n",
    "print(\"\\n\")\n",
    "\n",
    "print_user_info(username=\"arjun123\")  # Just one parameter\n"
   ]
  }
 ],
 "metadata": {
  "kernelspec": {
   "display_name": "Python 3",
   "language": "python",
   "name": "python3"
  },
  "language_info": {
   "codemirror_mode": {
    "name": "ipython",
    "version": 3
   },
   "file_extension": ".py",
   "mimetype": "text/x-python",
   "name": "python",
   "nbconvert_exporter": "python",
   "pygments_lexer": "ipython3",
   "version": "3.13.2"
  }
 },
 "nbformat": 4,
 "nbformat_minor": 5
}
