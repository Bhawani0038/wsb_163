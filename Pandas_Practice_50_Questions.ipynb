{
 "cells": [
  {
   "cell_type": "markdown",
   "id": "37c084bf-e769-48b5-8eae-d93738729eca",
   "metadata": {},
   "source": [
    "# Pandas Practice: Scenario-Based Questions (Beginner to Advanced)\n",
    "\n",
    "This notebook contains a comprehensive set of **50** practical, scenario-based questions to help you master the Pandas library from beginner to advanced levels. The questions are designed to be realistic and reflective of real-world data analysis tasks.\n",
    "\n",
    "---\n",
    "\n",
    "## 🥇 Beginner Level (1-20)\n",
    "\n",
    "### 1. Basic DataFrame Creation and Manipulation\n",
    "\n",
    "**Scenario:** You are a data analyst at a retail company. You receive the following sales data for analysis:\n",
    "\n",
    "| Product | Category | Units Sold | Unit Price | Total Revenue |\n",
    "|---------|----------|------------|------------|----------------|\n",
    "| Shoes   | Apparel  | 150        | 50         | 7500           |\n",
    "| Shirts  | Apparel  | 300        | 20         | 6000           |\n",
    "| Laptops | Electronics| 20       | 1000       | 20000          |\n",
    "| Mobiles | Electronics| 100      | 500        | 50000          |\n",
    "| Watches | Accessories| 200      | 100        | 20000          |"
   ]
  },
  {
   "cell_type": "markdown",
   "id": "e8dd03c1-db57-4148-8a7e-7bcb55c1365d",
   "metadata": {},
   "source": [
    "**Tasks:**  "
   ]
  },
  {
   "cell_type": "markdown",
   "id": "b39b20e0-3b36-40ef-b87f-e7bf4b3cb0b5",
   "metadata": {},
   "source": [
    "1. Create a DataFrame for this sales data.  "
   ]
  },
  {
   "cell_type": "code",
   "execution_count": null,
   "id": "73bb3c04-4816-4cd5-b150-a9557dc6a05c",
   "metadata": {},
   "outputs": [],
   "source": []
  },
  {
   "cell_type": "markdown",
   "id": "d4bc2bc6-aeb4-4c17-ad9f-3c5119ff28d3",
   "metadata": {},
   "source": [
    "2. Add a new column \"Profit\" assuming a 30% profit margin on each product.  "
   ]
  },
  {
   "cell_type": "code",
   "execution_count": null,
   "id": "76b04376-1e5a-4885-bd3c-a91d8871950f",
   "metadata": {},
   "outputs": [],
   "source": []
  },
  {
   "cell_type": "markdown",
   "id": "2b116088-e754-466a-adf3-2182deb705ca",
   "metadata": {},
   "source": [
    "3. Filter the DataFrame to display only the products that have sold more than 100 units.  "
   ]
  },
  {
   "cell_type": "code",
   "execution_count": null,
   "id": "f10393df-aa2f-4e3a-b51e-51f5d263e2fe",
   "metadata": {},
   "outputs": [],
   "source": []
  },
  {
   "cell_type": "markdown",
   "id": "c9f3031e-bdc7-47cf-93a6-f43320551047",
   "metadata": {},
   "source": [
    "4. Calculate the total revenue and average unit price for each category.  "
   ]
  },
  {
   "cell_type": "code",
   "execution_count": null,
   "id": "4aae31dd-1f4c-40e6-a8e2-0cbd5db8567e",
   "metadata": {},
   "outputs": [],
   "source": []
  },
  {
   "cell_type": "markdown",
   "id": "7c9d2832-f62f-4029-b2a7-1487aa2151e4",
   "metadata": {},
   "source": [
    "5. Sort the DataFrame by total revenue in descending order.  "
   ]
  },
  {
   "cell_type": "code",
   "execution_count": null,
   "id": "d3f01b3e-02e7-4e69-ba72-e7d3d0555380",
   "metadata": {},
   "outputs": [],
   "source": []
  },
  {
   "cell_type": "markdown",
   "id": "2943379e-c138-4e86-85d7-41df72c22431",
   "metadata": {},
   "source": [
    "6. Find the product with the highest unit price.  "
   ]
  },
  {
   "cell_type": "code",
   "execution_count": null,
   "id": "a7dd96d1-140d-422c-9792-10a5a4b89ac5",
   "metadata": {},
   "outputs": [],
   "source": []
  },
  {
   "cell_type": "markdown",
   "id": "bc9042e3-27bc-401c-b4cb-cecc8ef917ff",
   "metadata": {},
   "source": [
    "7. Add a column to calculate the profit for each product.  "
   ]
  },
  {
   "cell_type": "code",
   "execution_count": null,
   "id": "0d687fbc-6d72-479d-a824-f18719dffd3b",
   "metadata": {},
   "outputs": [],
   "source": []
  },
  {
   "cell_type": "markdown",
   "id": "4ff639f2-55e1-4e71-bdce-97c0c971143d",
   "metadata": {},
   "source": [
    "8. Remove the \"Total Revenue\" column.  "
   ]
  },
  {
   "cell_type": "code",
   "execution_count": null,
   "id": "9456eb37-7e21-46df-9474-0277a56e0b50",
   "metadata": {},
   "outputs": [],
   "source": []
  },
  {
   "cell_type": "markdown",
   "id": "b34585d0-528b-4496-813c-9b3cf4f3f106",
   "metadata": {},
   "source": [
    "9. Rename the \"Units Sold\" column to \"Quantity Sold\".  "
   ]
  },
  {
   "cell_type": "code",
   "execution_count": null,
   "id": "08d0b4c9-bd20-43b1-a143-77705b8c4810",
   "metadata": {},
   "outputs": [],
   "source": []
  },
  {
   "cell_type": "markdown",
   "id": "f68d6f7b-dce1-4234-a5b3-7bcb5ea92397",
   "metadata": {},
   "source": [
    "10. Extract the first three characters from each product name.  "
   ]
  },
  {
   "cell_type": "code",
   "execution_count": null,
   "id": "5f4095cd-0505-4f48-b413-aa6e02f1ce63",
   "metadata": {},
   "outputs": [],
   "source": []
  },
  {
   "cell_type": "markdown",
   "id": "097f713d-50f7-4194-99e0-bb5494865c3e",
   "metadata": {},
   "source": [
    "11. Check for any missing values in the DataFrame.  "
   ]
  },
  {
   "cell_type": "code",
   "execution_count": null,
   "id": "3b76c9d8-d2db-4203-bfb7-8ac79edb12ad",
   "metadata": {},
   "outputs": [],
   "source": []
  },
  {
   "cell_type": "markdown",
   "id": "e76140a0-f3b7-4b5e-b395-0c9ccf2b14e3",
   "metadata": {},
   "source": [
    "12. Replace the category \"Accessories\" with \"Wearables\".  "
   ]
  },
  {
   "cell_type": "code",
   "execution_count": null,
   "id": "c2df8680-e174-4e5a-874d-fa96751ae50e",
   "metadata": {},
   "outputs": [],
   "source": []
  },
  {
   "cell_type": "markdown",
   "id": "f44584c7-4bcc-420f-9d51-caa1925af6e2",
   "metadata": {},
   "source": [
    "13. Add a row for a new product \"Headphones\" in the Electronics category.  "
   ]
  },
  {
   "cell_type": "code",
   "execution_count": null,
   "id": "7d0d3832-aa54-403c-8208-05b28535bad5",
   "metadata": {},
   "outputs": [],
   "source": []
  },
  {
   "cell_type": "markdown",
   "id": "254c0f5b-d557-464e-9cbb-49667048f8b5",
   "metadata": {},
   "source": [
    "14. Drop the \"Profit\" column.  "
   ]
  },
  {
   "cell_type": "code",
   "execution_count": null,
   "id": "301fef74-cb0a-4ff8-819e-09e55ad4a4a2",
   "metadata": {},
   "outputs": [],
   "source": []
  },
  {
   "cell_type": "markdown",
   "id": "b70874db-dafb-4e76-a26e-cd8ac3fc553b",
   "metadata": {},
   "source": [
    "15. Count the number of products in each category.  "
   ]
  },
  {
   "cell_type": "code",
   "execution_count": null,
   "id": "7b1853ef-26a4-462c-a0d4-6508c63c59b2",
   "metadata": {},
   "outputs": [],
   "source": []
  },
  {
   "cell_type": "markdown",
   "id": "fed58704-7fca-4b50-8d21-1f3b2bb644d9",
   "metadata": {},
   "source": [
    "16. Find the average price of Electronics products.  "
   ]
  },
  {
   "cell_type": "code",
   "execution_count": null,
   "id": "3458f582-7024-49aa-a9f3-91ea0c981763",
   "metadata": {},
   "outputs": [],
   "source": []
  },
  {
   "cell_type": "markdown",
   "id": "c229d55b-1139-40e4-8399-7a3f106ce788",
   "metadata": {},
   "source": [
    "17. Convert the \"Unit Price\" to a float data type.  "
   ]
  },
  {
   "cell_type": "code",
   "execution_count": null,
   "id": "4e49c1c1-7b25-4078-8d0e-063b0f83dc96",
   "metadata": {},
   "outputs": [],
   "source": []
  },
  {
   "cell_type": "markdown",
   "id": "e2f483fd-89e6-4f34-9edb-1d2b7de85539",
   "metadata": {},
   "source": [
    "18. Reset the index of the DataFrame.  "
   ]
  },
  {
   "cell_type": "code",
   "execution_count": null,
   "id": "19fd8591-23f6-4ee8-8efe-f3145594fb8b",
   "metadata": {},
   "outputs": [],
   "source": []
  },
  {
   "cell_type": "markdown",
   "id": "d6bec35a-bc56-4eba-905f-155878c322e8",
   "metadata": {},
   "source": [
    "19. Display only the last 3 rows of the DataFrame.  "
   ]
  },
  {
   "cell_type": "code",
   "execution_count": null,
   "id": "91f2361e-4d93-44bd-8f8e-3ab66a6aff5e",
   "metadata": {},
   "outputs": [],
   "source": []
  },
  {
   "cell_type": "markdown",
   "id": "b17b93a4-c42a-4a25-a86c-e68f2df92f30",
   "metadata": {},
   "source": [
    "20. Create a summary report of the DataFrame using the `describe()` function.  "
   ]
  },
  {
   "cell_type": "code",
   "execution_count": null,
   "id": "58db5abe-f8ae-4293-88cf-35009ca69901",
   "metadata": {},
   "outputs": [],
   "source": []
  },
  {
   "cell_type": "markdown",
   "id": "a2033648-01d6-4e7e-b4a8-19c061a0a449",
   "metadata": {},
   "source": [
    "---"
   ]
  },
  {
   "cell_type": "markdown",
   "id": "06dabee1-5b53-445e-b0d1-52b57f9f6741",
   "metadata": {},
   "source": [
    "## 🥈 Intermediate Level (21-40)\n",
    "\n",
    "### 2. Data Cleaning and Preparation\n",
    "\n",
    "**Scenario:** You are working with customer feedback data for a mobile app. The data is as follows:\n",
    "\n",
    "| Customer ID | Name      | Age | Feedback                              | Rating | Date       |\n",
    "|--------------|-----------|-----|---------------------------------------|--------|------------|\n",
    "| 101          | Alice     | 25  | Excellent service                     | 5      | 2023-01-01 |\n",
    "| 102          | Bob       | 32  | Good app, but slow sometimes          | 3      | 2023-02-15 |\n",
    "| 103          | Charlie   | 28  | Needs more features, average experience| 2      | 2023-02-20 |\n",
    "| 104          | Diana     |     | Excellent experience                  | 5      | 2023-03-10 |\n",
    "| 105          | Eve       | 22  | Great, but needs better UI            | 4      | 2023-03-15 |"
   ]
  },
  {
   "cell_type": "markdown",
   "id": "f34e9992-82d2-4ef9-98b9-cc8f972f616e",
   "metadata": {},
   "source": [
    "**Tasks:**  "
   ]
  },
  {
   "cell_type": "markdown",
   "id": "ed2cef78-edcb-4f93-9ece-0217e6de9fd3",
   "metadata": {},
   "source": [
    "21. Create a DataFrame for this customer feedback data.  "
   ]
  },
  {
   "cell_type": "code",
   "execution_count": null,
   "id": "df0cc5e1-ded0-4c6b-b687-eb15ece90702",
   "metadata": {},
   "outputs": [],
   "source": []
  },
  {
   "cell_type": "markdown",
   "id": "e4472c06-4127-4226-88fb-f31eecfbeba9",
   "metadata": {},
   "source": [
    "22. Identify and fill the missing age values with the average age.  "
   ]
  },
  {
   "cell_type": "code",
   "execution_count": null,
   "id": "6e1ba067-bdee-47a5-887d-bfb312bcba3d",
   "metadata": {},
   "outputs": [],
   "source": []
  },
  {
   "cell_type": "markdown",
   "id": "47075c4c-6aa9-489a-a59d-5b4ad210bcd8",
   "metadata": {},
   "source": [
    "23. Extract the year, month, and day from the 'Date' column into separate columns.  "
   ]
  },
  {
   "cell_type": "code",
   "execution_count": null,
   "id": "7b59d5fd-d8f9-4c3c-9611-7877a7139bce",
   "metadata": {},
   "outputs": [],
   "source": []
  },
  {
   "cell_type": "markdown",
   "id": "4cf71556-ce53-421f-afc1-fea50fae4e22",
   "metadata": {},
   "source": [
    "24. Filter the feedback data to show only customers with a rating of 4 or higher.  "
   ]
  },
  {
   "cell_type": "code",
   "execution_count": null,
   "id": "cdaead3a-7fca-4a4d-a8c8-30691e88adfb",
   "metadata": {},
   "outputs": [],
   "source": []
  },
  {
   "cell_type": "markdown",
   "id": "d7caf283-aa40-49c3-a124-74193ee5b82c",
   "metadata": {},
   "source": [
    "25. Calculate the average rating by month.  "
   ]
  },
  {
   "cell_type": "code",
   "execution_count": null,
   "id": "ebefafba-c5f1-4b48-8cc9-c5741243e352",
   "metadata": {},
   "outputs": [],
   "source": []
  },
  {
   "cell_type": "markdown",
   "id": "7c9ceed8-956e-4c73-9d47-baa17a614c5f",
   "metadata": {},
   "source": [
    "26. Remove any duplicate customer IDs (if any).  "
   ]
  },
  {
   "cell_type": "code",
   "execution_count": null,
   "id": "2c714e86-ed8e-430b-bb3d-99102d0f3d47",
   "metadata": {},
   "outputs": [],
   "source": []
  },
  {
   "cell_type": "markdown",
   "id": "c13d5fc0-5ca8-4949-bfec-ae8a06d4af1d",
   "metadata": {},
   "source": [
    "27. Sort the data by customer age in ascending order.  "
   ]
  },
  {
   "cell_type": "code",
   "execution_count": null,
   "id": "ad864669-5e35-429c-b696-cadbd53cc363",
   "metadata": {},
   "outputs": [],
   "source": []
  },
  {
   "cell_type": "markdown",
   "id": "2534b49c-eef3-47e0-93e8-0a0ec7def416",
   "metadata": {},
   "source": [
    "28. Replace all occurrences of the word \"Excellent\" with \"Outstanding\".  "
   ]
  },
  {
   "cell_type": "code",
   "execution_count": null,
   "id": "32c3f6bb-d5b2-4cd8-869b-5aeb5ea8c314",
   "metadata": {},
   "outputs": [],
   "source": []
  },
  {
   "cell_type": "markdown",
   "id": "85c2f599-3524-44bf-aee7-eadf39808cab",
   "metadata": {},
   "source": [
    "29. Count the number of unique customers in the dataset.  "
   ]
  },
  {
   "cell_type": "code",
   "execution_count": null,
   "id": "469661dd-815f-4f5d-9599-ece0dba204bf",
   "metadata": {},
   "outputs": [],
   "source": []
  },
  {
   "cell_type": "markdown",
   "id": "0b515d57-ab1e-4270-badb-569424086dcd",
   "metadata": {},
   "source": [
    "30. Find the oldest customer in the dataset.  "
   ]
  },
  {
   "cell_type": "code",
   "execution_count": null,
   "id": "3b0addff-dfee-4976-8043-97f808c058f1",
   "metadata": {},
   "outputs": [],
   "source": []
  },
  {
   "cell_type": "markdown",
   "id": "1923efab-acde-4e91-b948-975f867c0d23",
   "metadata": {},
   "source": [
    "31. Check if there are any null values in the 'Feedback' column.  "
   ]
  },
  {
   "cell_type": "code",
   "execution_count": null,
   "id": "226d01f6-12ab-44d3-9197-a865a948e7e5",
   "metadata": {},
   "outputs": [],
   "source": []
  },
  {
   "cell_type": "markdown",
   "id": "daaad9f8-7b97-40bb-974d-cb6f0b3f8b85",
   "metadata": {},
   "source": [
    "32. Convert the 'Date' column to datetime format.  "
   ]
  },
  {
   "cell_type": "code",
   "execution_count": null,
   "id": "4945ff8a-de3c-440b-97f9-8fec8e4e31cb",
   "metadata": {},
   "outputs": [],
   "source": []
  },
  {
   "cell_type": "markdown",
   "id": "e7b34c6c-cc4a-466f-8e96-a0c8bcc9a25c",
   "metadata": {},
   "source": [
    "33. Extract only the first name initials of each customer.  "
   ]
  },
  {
   "cell_type": "code",
   "execution_count": null,
   "id": "33a677b0-ae0b-4171-ae4f-4d131e1f1d27",
   "metadata": {},
   "outputs": [],
   "source": []
  },
  {
   "cell_type": "markdown",
   "id": "80bde6b4-9151-4c6b-be0a-1dfe263dda87",
   "metadata": {},
   "source": [
    "34. Group the feedback by rating and count the number of customers in each group.  "
   ]
  },
  {
   "cell_type": "code",
   "execution_count": null,
   "id": "7588db6b-5d21-45f4-b374-e15ce52e4ef1",
   "metadata": {},
   "outputs": [],
   "source": []
  },
  {
   "cell_type": "markdown",
   "id": "60c4e4ef-635f-4d2e-bd0b-97e7a2338292",
   "metadata": {},
   "source": [
    "35. Add a column to classify feedback as \"Positive\" if the rating is 4 or 5, and \"Negative\" otherwise.  "
   ]
  },
  {
   "cell_type": "code",
   "execution_count": null,
   "id": "c8345719-ea64-4aa2-b508-7738211b7644",
   "metadata": {},
   "outputs": [],
   "source": []
  },
  {
   "cell_type": "markdown",
   "id": "0322d58b-9f32-4287-a745-eae2e19e8b79",
   "metadata": {},
   "source": [
    "36. Drop the \"Date\" column after extracting year, month, and day.  "
   ]
  },
  {
   "cell_type": "code",
   "execution_count": null,
   "id": "d59f3013-64d6-4a80-b0e0-8320d53904c1",
   "metadata": {},
   "outputs": [],
   "source": []
  },
  {
   "cell_type": "markdown",
   "id": "5caba64a-3671-45cc-8006-dc70ed386850",
   "metadata": {},
   "source": [
    "37. Count the number of customers who gave feedback containing the word \"great\".  "
   ]
  },
  {
   "cell_type": "code",
   "execution_count": null,
   "id": "9c0e8af7-2710-459a-a18d-6f484bb3988a",
   "metadata": {},
   "outputs": [],
   "source": []
  },
  {
   "cell_type": "markdown",
   "id": "694cc505-7b58-4a6c-8253-7cc71f51e1a3",
   "metadata": {},
   "source": [
    "38. Merge this DataFrame with another DataFrame containing customer emails.  "
   ]
  },
  {
   "cell_type": "code",
   "execution_count": null,
   "id": "e5b4322e-a373-40c8-a2e2-4a897ad1f70e",
   "metadata": {},
   "outputs": [],
   "source": []
  },
  {
   "cell_type": "markdown",
   "id": "af41e581-2551-4c31-a8df-67cba3a47ed8",
   "metadata": {},
   "source": [
    "39. Create a bar plot to visualize the count of ratings.  "
   ]
  },
  {
   "cell_type": "code",
   "execution_count": null,
   "id": "9b7c1f6b-5a70-4a29-b5c3-1c43e5b3cdae",
   "metadata": {},
   "outputs": [],
   "source": []
  },
  {
   "cell_type": "markdown",
   "id": "aa9695fe-b4c3-4a2f-97ec-be8e98835c8c",
   "metadata": {},
   "source": [
    "40. Save this DataFrame to a CSV file.  \n",
    "\n",
    "---"
   ]
  },
  {
   "cell_type": "markdown",
   "id": "a337f08d-4b2e-40d3-9cb2-d10a917b3c58",
   "metadata": {},
   "source": [
    "## 🥇 Advanced Level (41-50)\n",
    "\n",
    "### 3. Data Aggregation and Analysis\n",
    "\n",
    "**Scenario:** You have been given the sales data for a global retail chain. The data includes sales from different regions as follows:\n",
    "\n",
    "| Region   | Product | Units Sold | Unit Price | Total Revenue |\n",
    "|----------|---------|------------|------------|----------------|\n",
    "| North    | Shoes   | 200        | 50         | 10000          |\n",
    "| South    | Shirts  | 150        | 30         | 4500           |\n",
    "| East     | Laptops | 30         | 1200       | 36000          |\n",
    "| West     | Mobiles | 100        | 600        | 60000          |\n",
    "| Central  | Watches | 180        | 150        | 27000          |\n",
    "| North    | Laptops | 50         | 1000       | 50000          |\n",
    "| South    | Mobiles | 120        | 550        | 66000          |"
   ]
  },
  {
   "cell_type": "markdown",
   "id": "634f0c25-1d14-45d2-b064-1ce2547b491e",
   "metadata": {
    "jp-MarkdownHeadingCollapsed": true
   },
   "source": [
    "**Tasks:**  "
   ]
  },
  {
   "cell_type": "markdown",
   "id": "b327e3d1-d084-4180-80e5-827cbd77b48e",
   "metadata": {
    "jp-MarkdownHeadingCollapsed": true
   },
   "source": [
    "41. Create a DataFrame for this regional sales data.  "
   ]
  },
  {
   "cell_type": "code",
   "execution_count": null,
   "id": "6d1823b4-06cf-4f29-ab43-2e33c5cbc281",
   "metadata": {},
   "outputs": [],
   "source": []
  },
  {
   "cell_type": "markdown",
   "id": "5d7c0c04-02eb-4eb3-ade9-97b2e354f605",
   "metadata": {
    "jp-MarkdownHeadingCollapsed": true
   },
   "source": [
    "42. Group the data by region and calculate the total revenue, total units sold, and average unit price for each region.  "
   ]
  },
  {
   "cell_type": "code",
   "execution_count": null,
   "id": "dcba1460-2e3f-437d-a82b-47c0d9a6a24d",
   "metadata": {},
   "outputs": [],
   "source": []
  },
  {
   "cell_type": "markdown",
   "id": "ee4e31b4-ce3a-48e9-95bc-c2001b6841fd",
   "metadata": {
    "jp-MarkdownHeadingCollapsed": true
   },
   "source": [
    "43. Identify the region with the highest total revenue.  "
   ]
  },
  {
   "cell_type": "code",
   "execution_count": null,
   "id": "320cae94-fa86-474b-ad9a-75bf16c518a5",
   "metadata": {},
   "outputs": [],
   "source": []
  },
  {
   "cell_type": "markdown",
   "id": "99f69188-c3bf-405e-a49c-206af7c8eabc",
   "metadata": {
    "jp-MarkdownHeadingCollapsed": true
   },
   "source": [
    "44. Create a pivot table to summarize the total revenue for each product in each region.  "
   ]
  },
  {
   "cell_type": "code",
   "execution_count": null,
   "id": "df9234ef-d655-43c9-bd20-3ecdd9f28707",
   "metadata": {},
   "outputs": [],
   "source": []
  },
  {
   "cell_type": "markdown",
   "id": "3120efeb-437e-4b21-b452-cb0c47585dba",
   "metadata": {
    "jp-MarkdownHeadingCollapsed": true
   },
   "source": [
    "45. Visualize the total revenue by region using a bar chart.  "
   ]
  },
  {
   "cell_type": "code",
   "execution_count": null,
   "id": "876d4600-8e5a-4a37-aee8-43db6decba6d",
   "metadata": {},
   "outputs": [],
   "source": []
  },
  {
   "cell_type": "markdown",
   "id": "fa932de6-cc9a-4c0d-9ca1-e262f5ccfff5",
   "metadata": {
    "jp-MarkdownHeadingCollapsed": true
   },
   "source": [
    "46. Find the product with the highest total revenue in each region.  "
   ]
  },
  {
   "cell_type": "code",
   "execution_count": null,
   "id": "a5fb9fe6-f350-428c-ad31-e5930d2983be",
   "metadata": {},
   "outputs": [],
   "source": []
  },
  {
   "cell_type": "markdown",
   "id": "dabc5231-c6be-4dd6-bb9a-8baf00283b64",
   "metadata": {
    "jp-MarkdownHeadingCollapsed": true
   },
   "source": [
    "47. Calculate the total profit assuming a 25% profit margin for each product.  "
   ]
  },
  {
   "cell_type": "code",
   "execution_count": null,
   "id": "0fd72d14-b2bd-4f16-ae95-b0900f52b880",
   "metadata": {},
   "outputs": [],
   "source": []
  },
  {
   "cell_type": "markdown",
   "id": "16cf5831-881e-4b88-80f0-d6462c9b43b9",
   "metadata": {
    "jp-MarkdownHeadingCollapsed": true
   },
   "source": [
    "48. Remove all rows where the total revenue is less than 5000.  "
   ]
  },
  {
   "cell_type": "code",
   "execution_count": null,
   "id": "db4b5161-9017-4793-8e3e-490d55c6e7f0",
   "metadata": {},
   "outputs": [],
   "source": []
  },
  {
   "cell_type": "markdown",
   "id": "c15c9b69-a289-48aa-8a95-cf2c32eb74c4",
   "metadata": {
    "jp-MarkdownHeadingCollapsed": true
   },
   "source": [
    "49. Find the average units sold per product category.  "
   ]
  },
  {
   "cell_type": "code",
   "execution_count": null,
   "id": "834b4015-d309-4013-a30b-f65ec9b5cb09",
   "metadata": {},
   "outputs": [],
   "source": []
  },
  {
   "cell_type": "markdown",
   "id": "e8ffedc2-9d64-4687-91d8-cc6e4ff53c4e",
   "metadata": {
    "jp-MarkdownHeadingCollapsed": true
   },
   "source": [
    "50. Save this DataFrame to an Excel file.  "
   ]
  },
  {
   "cell_type": "code",
   "execution_count": null,
   "id": "d27f8d5b-f8c3-4c8a-91c8-9b5495978642",
   "metadata": {},
   "outputs": [],
   "source": []
  }
 ],
 "metadata": {
  "kernelspec": {
   "display_name": "Python 3 (ipykernel)",
   "language": "python",
   "name": "python3"
  },
  "language_info": {
   "codemirror_mode": {
    "name": "ipython",
    "version": 3
   },
   "file_extension": ".py",
   "mimetype": "text/x-python",
   "name": "python",
   "nbconvert_exporter": "python",
   "pygments_lexer": "ipython3",
   "version": "3.13.3"
  }
 },
 "nbformat": 4,
 "nbformat_minor": 5
}
